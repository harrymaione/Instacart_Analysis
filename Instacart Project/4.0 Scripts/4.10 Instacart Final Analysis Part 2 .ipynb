{
 "cells": [
  {
   "cell_type": "markdown",
   "id": "9195e116",
   "metadata": {},
   "source": [
    "# 4.10 Instacart Final Analysis Part 2 "
   ]
  },
  {
   "cell_type": "markdown",
   "id": "c4f26089",
   "metadata": {},
   "source": [
    "## This script contains \n",
    "1. Import Libraries and Data \n",
    "2. Comparison between customer profiles and region and departments\n",
    "3. Visualizations of Comparisons"
   ]
  },
  {
   "cell_type": "markdown",
   "id": "e4cbbcab",
   "metadata": {},
   "source": [
    "### Import Libraries and Data"
   ]
  },
  {
   "cell_type": "code",
   "execution_count": 1,
   "id": "61fde0dc",
   "metadata": {},
   "outputs": [],
   "source": [
    "#import libraries \n",
    "import pandas as pd\n",
    "import numpy as np \n",
    "import os\n",
    "import matplotlib.pyplot as plt \n",
    "import seaborn as sns\n",
    "import scipy \n"
   ]
  },
  {
   "cell_type": "code",
   "execution_count": 2,
   "id": "79a38a34",
   "metadata": {},
   "outputs": [],
   "source": [
    "#Set Path \n",
    "path= r'C:\\Users\\hmaio\\Documents\\4.0 Instacart Project'"
   ]
  },
  {
   "cell_type": "code",
   "execution_count": 3,
   "id": "9bba31ea",
   "metadata": {},
   "outputs": [],
   "source": [
    "# Import Data \n",
    "df_reg_activity = pd.read_pickle(os.path.join(path, '4.0 Data', 'Prepared Data', 'df_reg_activity.pkl'))"
   ]
  },
  {
   "cell_type": "markdown",
   "id": "7821a800",
   "metadata": {},
   "source": [
    " ###  Comparison between customer profiles and region and departments"
   ]
  },
  {
   "cell_type": "markdown",
   "id": "055bc326",
   "metadata": {},
   "source": [
    "#### By Region "
   ]
  },
  {
   "cell_type": "code",
   "execution_count": 4,
   "id": "3351730b",
   "metadata": {},
   "outputs": [],
   "source": [
    "# Compare Age profile by region \n",
    "age_region = pd.crosstab(df_reg_activity['region'], df_reg_activity['age_profile'], dropna = False)"
   ]
  },
  {
   "cell_type": "code",
   "execution_count": 5,
   "id": "8b66b261",
   "metadata": {},
   "outputs": [
    {
     "data": {
      "text/html": [
       "<div>\n",
       "<style scoped>\n",
       "    .dataframe tbody tr th:only-of-type {\n",
       "        vertical-align: middle;\n",
       "    }\n",
       "\n",
       "    .dataframe tbody tr th {\n",
       "        vertical-align: top;\n",
       "    }\n",
       "\n",
       "    .dataframe thead th {\n",
       "        text-align: right;\n",
       "    }\n",
       "</style>\n",
       "<table border=\"1\" class=\"dataframe\">\n",
       "  <thead>\n",
       "    <tr style=\"text-align: right;\">\n",
       "      <th>age_profile</th>\n",
       "      <th>Adult</th>\n",
       "      <th>Senior</th>\n",
       "      <th>Young Adult</th>\n",
       "    </tr>\n",
       "    <tr>\n",
       "      <th>region</th>\n",
       "      <th></th>\n",
       "      <th></th>\n",
       "      <th></th>\n",
       "    </tr>\n",
       "  </thead>\n",
       "  <tbody>\n",
       "    <tr>\n",
       "      <th>Midwest</th>\n",
       "      <td>4319677</td>\n",
       "      <td>1799686</td>\n",
       "      <td>749056</td>\n",
       "    </tr>\n",
       "    <tr>\n",
       "      <th>Northeast</th>\n",
       "      <td>3195433</td>\n",
       "      <td>1406412</td>\n",
       "      <td>571016</td>\n",
       "    </tr>\n",
       "    <tr>\n",
       "      <th>South</th>\n",
       "      <td>6092042</td>\n",
       "      <td>2562259</td>\n",
       "      <td>1102572</td>\n",
       "    </tr>\n",
       "    <tr>\n",
       "      <th>West</th>\n",
       "      <td>4709725</td>\n",
       "      <td>1986203</td>\n",
       "      <td>809200</td>\n",
       "    </tr>\n",
       "  </tbody>\n",
       "</table>\n",
       "</div>"
      ],
      "text/plain": [
       "age_profile    Adult   Senior  Young Adult\n",
       "region                                    \n",
       "Midwest      4319677  1799686       749056\n",
       "Northeast    3195433  1406412       571016\n",
       "South        6092042  2562259      1102572\n",
       "West         4709725  1986203       809200"
      ]
     },
     "execution_count": 5,
     "metadata": {},
     "output_type": "execute_result"
    }
   ],
   "source": [
    "# view results\n",
    "age_region"
   ]
  },
  {
   "cell_type": "code",
   "execution_count": 6,
   "id": "3a9d6a23",
   "metadata": {},
   "outputs": [],
   "source": [
    "# Compare Income profile by region \n",
    "income_region = pd.crosstab(df_reg_activity['region'], df_reg_activity['income_profile'], dropna = False)"
   ]
  },
  {
   "cell_type": "code",
   "execution_count": 7,
   "id": "32b149d9",
   "metadata": {},
   "outputs": [
    {
     "data": {
      "text/html": [
       "<div>\n",
       "<style scoped>\n",
       "    .dataframe tbody tr th:only-of-type {\n",
       "        vertical-align: middle;\n",
       "    }\n",
       "\n",
       "    .dataframe tbody tr th {\n",
       "        vertical-align: top;\n",
       "    }\n",
       "\n",
       "    .dataframe thead th {\n",
       "        text-align: right;\n",
       "    }\n",
       "</style>\n",
       "<table border=\"1\" class=\"dataframe\">\n",
       "  <thead>\n",
       "    <tr style=\"text-align: right;\">\n",
       "      <th>income_profile</th>\n",
       "      <th>Upper Middle Income</th>\n",
       "      <th>Low Income</th>\n",
       "      <th>Lower Middle Income</th>\n",
       "      <th>Middle Income</th>\n",
       "      <th>Upper Income</th>\n",
       "    </tr>\n",
       "    <tr>\n",
       "      <th>region</th>\n",
       "      <th></th>\n",
       "      <th></th>\n",
       "      <th></th>\n",
       "      <th></th>\n",
       "      <th></th>\n",
       "    </tr>\n",
       "  </thead>\n",
       "  <tbody>\n",
       "    <tr>\n",
       "      <th>Midwest</th>\n",
       "      <td>2804510</td>\n",
       "      <td>138087</td>\n",
       "      <td>828472</td>\n",
       "      <td>3074595</td>\n",
       "      <td>22755</td>\n",
       "    </tr>\n",
       "    <tr>\n",
       "      <th>Northeast</th>\n",
       "      <td>2101136</td>\n",
       "      <td>97052</td>\n",
       "      <td>647824</td>\n",
       "      <td>2315601</td>\n",
       "      <td>11248</td>\n",
       "    </tr>\n",
       "    <tr>\n",
       "      <th>South</th>\n",
       "      <td>3896704</td>\n",
       "      <td>200507</td>\n",
       "      <td>1223615</td>\n",
       "      <td>4416898</td>\n",
       "      <td>19149</td>\n",
       "    </tr>\n",
       "    <tr>\n",
       "      <th>West</th>\n",
       "      <td>3008293</td>\n",
       "      <td>149853</td>\n",
       "      <td>913772</td>\n",
       "      <td>3416537</td>\n",
       "      <td>16673</td>\n",
       "    </tr>\n",
       "  </tbody>\n",
       "</table>\n",
       "</div>"
      ],
      "text/plain": [
       "income_profile   Upper Middle Income  Low Income  Lower Middle Income  \\\n",
       "region                                                                  \n",
       "Midwest                      2804510      138087               828472   \n",
       "Northeast                    2101136       97052               647824   \n",
       "South                        3896704      200507              1223615   \n",
       "West                         3008293      149853               913772   \n",
       "\n",
       "income_profile  Middle Income  Upper Income  \n",
       "region                                       \n",
       "Midwest               3074595         22755  \n",
       "Northeast             2315601         11248  \n",
       "South                 4416898         19149  \n",
       "West                  3416537         16673  "
      ]
     },
     "execution_count": 7,
     "metadata": {},
     "output_type": "execute_result"
    }
   ],
   "source": [
    "# view results \n",
    "income_region"
   ]
  },
  {
   "cell_type": "code",
   "execution_count": 8,
   "id": "3467dfad",
   "metadata": {},
   "outputs": [],
   "source": [
    "# Compare dependent profile by region \n",
    "dependent_region = pd.crosstab(df_reg_activity['region'], df_reg_activity['dependent_profile'], dropna = False)"
   ]
  },
  {
   "cell_type": "code",
   "execution_count": 9,
   "id": "9f13a504",
   "metadata": {},
   "outputs": [
    {
     "data": {
      "text/html": [
       "<div>\n",
       "<style scoped>\n",
       "    .dataframe tbody tr th:only-of-type {\n",
       "        vertical-align: middle;\n",
       "    }\n",
       "\n",
       "    .dataframe tbody tr th {\n",
       "        vertical-align: top;\n",
       "    }\n",
       "\n",
       "    .dataframe thead th {\n",
       "        text-align: right;\n",
       "    }\n",
       "</style>\n",
       "<table border=\"1\" class=\"dataframe\">\n",
       "  <thead>\n",
       "    <tr style=\"text-align: right;\">\n",
       "      <th>dependent_profile</th>\n",
       "      <th>Family</th>\n",
       "      <th>Individual</th>\n",
       "    </tr>\n",
       "    <tr>\n",
       "      <th>region</th>\n",
       "      <th></th>\n",
       "      <th></th>\n",
       "    </tr>\n",
       "  </thead>\n",
       "  <tbody>\n",
       "    <tr>\n",
       "      <th>Midwest</th>\n",
       "      <td>5143200</td>\n",
       "      <td>1725219</td>\n",
       "    </tr>\n",
       "    <tr>\n",
       "      <th>Northeast</th>\n",
       "      <td>3892116</td>\n",
       "      <td>1280745</td>\n",
       "    </tr>\n",
       "    <tr>\n",
       "      <th>South</th>\n",
       "      <td>7313921</td>\n",
       "      <td>2442952</td>\n",
       "    </tr>\n",
       "    <tr>\n",
       "      <th>West</th>\n",
       "      <td>5629157</td>\n",
       "      <td>1875971</td>\n",
       "    </tr>\n",
       "  </tbody>\n",
       "</table>\n",
       "</div>"
      ],
      "text/plain": [
       "dependent_profile   Family  Individual\n",
       "region                                \n",
       "Midwest            5143200     1725219\n",
       "Northeast          3892116     1280745\n",
       "South              7313921     2442952\n",
       "West               5629157     1875971"
      ]
     },
     "execution_count": 9,
     "metadata": {},
     "output_type": "execute_result"
    }
   ],
   "source": [
    "# view results \n",
    "dependent_region"
   ]
  },
  {
   "cell_type": "code",
   "execution_count": null,
   "id": "76a92a7d",
   "metadata": {},
   "outputs": [],
   "source": []
  },
  {
   "cell_type": "markdown",
   "id": "695d6cd7",
   "metadata": {},
   "source": [
    "#### By Department "
   ]
  },
  {
   "cell_type": "code",
   "execution_count": 10,
   "id": "81aa95f0",
   "metadata": {},
   "outputs": [],
   "source": [
    "# Create department column using data dictionary \n",
    "\n",
    "department_name = []\n",
    "\n",
    "for value in df_reg_activity['department_id']:\n",
    "    if value == 1:\n",
    "        department_name.append('Frozen')\n",
    "    elif value == 2:\n",
    "         department_name.append('Other')\n",
    "    elif value == 3:\n",
    "        department_name.append('Bakery')\n",
    "    elif value == 4:\n",
    "        department_name.append('Produce')\n",
    "    elif value == 5:\n",
    "        department_name.append('Alcohol')\n",
    "    elif value == 6:\n",
    "        department_name.append('International')\n",
    "    elif value == 7:\n",
    "        department_name.append('Beverages')\n",
    "    elif value == 8:\n",
    "        department_name.append('Pets')\n",
    "    elif value == 9:\n",
    "        department_name.append('Dry goods pasta')\n",
    "    elif value == 10:\n",
    "        department_name.append('Bulk')\n",
    "    elif value == 11:\n",
    "        department_name.append('Personal care')\n",
    "    elif value == 12:\n",
    "        department_name.append('Meat seafood')\n",
    "    elif value == 13:\n",
    "        department_name.append('Pantry')\n",
    "    elif value == 14:\n",
    "        department_name.append('Breakfast')\n",
    "    elif value == 15:\n",
    "        department_name.append('Canned goods')\n",
    "    elif value == 16:\n",
    "        department_name.append('Dairy eggs')\n",
    "    elif value == 17:\n",
    "        department_name.append('Household')\n",
    "    elif value == 18:\n",
    "        department_name.append('Babies')\n",
    "    elif value == 19:\n",
    "        department_name.append('Snacks')\n",
    "    elif value == 20:\n",
    "        department_name.append('Deli')\n",
    "    elif value == 21:\n",
    "        department_name.append('Missing')"
   ]
  },
  {
   "cell_type": "code",
   "execution_count": 11,
   "id": "e4a436ed",
   "metadata": {},
   "outputs": [],
   "source": [
    "# add department name column \n",
    "df_reg_activity['department_name'] = department_name"
   ]
  },
  {
   "cell_type": "code",
   "execution_count": 12,
   "id": "5e27ea6a",
   "metadata": {},
   "outputs": [],
   "source": [
    "# Compare age profile to departments\n",
    "age_department = pd.crosstab(df_reg_activity['department_name'], df_reg_activity['age_profile'], dropna = False)"
   ]
  },
  {
   "cell_type": "code",
   "execution_count": 14,
   "id": "a9191e93",
   "metadata": {},
   "outputs": [
    {
     "data": {
      "text/html": [
       "<div>\n",
       "<style scoped>\n",
       "    .dataframe tbody tr th:only-of-type {\n",
       "        vertical-align: middle;\n",
       "    }\n",
       "\n",
       "    .dataframe tbody tr th {\n",
       "        vertical-align: top;\n",
       "    }\n",
       "\n",
       "    .dataframe thead th {\n",
       "        text-align: right;\n",
       "    }\n",
       "</style>\n",
       "<table border=\"1\" class=\"dataframe\">\n",
       "  <thead>\n",
       "    <tr style=\"text-align: right;\">\n",
       "      <th>age_profile</th>\n",
       "      <th>Adult</th>\n",
       "      <th>Senior</th>\n",
       "      <th>Young Adult</th>\n",
       "    </tr>\n",
       "    <tr>\n",
       "      <th>department_name</th>\n",
       "      <th></th>\n",
       "      <th></th>\n",
       "      <th></th>\n",
       "    </tr>\n",
       "  </thead>\n",
       "  <tbody>\n",
       "    <tr>\n",
       "      <th>Alcohol</th>\n",
       "      <td>84415</td>\n",
       "      <td>34183</td>\n",
       "      <td>16269</td>\n",
       "    </tr>\n",
       "    <tr>\n",
       "      <th>Babies</th>\n",
       "      <td>246802</td>\n",
       "      <td>101291</td>\n",
       "      <td>43614</td>\n",
       "    </tr>\n",
       "    <tr>\n",
       "      <th>Bakery</th>\n",
       "      <td>663906</td>\n",
       "      <td>279817</td>\n",
       "      <td>116889</td>\n",
       "    </tr>\n",
       "    <tr>\n",
       "      <th>Beverages</th>\n",
       "      <td>1524563</td>\n",
       "      <td>648309</td>\n",
       "      <td>264714</td>\n",
       "    </tr>\n",
       "    <tr>\n",
       "      <th>Breakfast</th>\n",
       "      <td>396737</td>\n",
       "      <td>165273</td>\n",
       "      <td>71459</td>\n",
       "    </tr>\n",
       "    <tr>\n",
       "      <th>Bulk</th>\n",
       "      <td>19833</td>\n",
       "      <td>8564</td>\n",
       "      <td>3601</td>\n",
       "    </tr>\n",
       "    <tr>\n",
       "      <th>Canned goods</th>\n",
       "      <td>597044</td>\n",
       "      <td>252134</td>\n",
       "      <td>105271</td>\n",
       "    </tr>\n",
       "    <tr>\n",
       "      <th>Dairy eggs</th>\n",
       "      <td>3069118</td>\n",
       "      <td>1296733</td>\n",
       "      <td>543502</td>\n",
       "    </tr>\n",
       "    <tr>\n",
       "      <th>Deli</th>\n",
       "      <td>593629</td>\n",
       "      <td>250334</td>\n",
       "      <td>103590</td>\n",
       "    </tr>\n",
       "    <tr>\n",
       "      <th>Dry goods pasta</th>\n",
       "      <td>482979</td>\n",
       "      <td>204580</td>\n",
       "      <td>86434</td>\n",
       "    </tr>\n",
       "    <tr>\n",
       "      <th>Frozen</th>\n",
       "      <td>1245162</td>\n",
       "      <td>531180</td>\n",
       "      <td>220102</td>\n",
       "    </tr>\n",
       "    <tr>\n",
       "      <th>Household</th>\n",
       "      <td>410616</td>\n",
       "      <td>175739</td>\n",
       "      <td>72620</td>\n",
       "    </tr>\n",
       "    <tr>\n",
       "      <th>International</th>\n",
       "      <td>150790</td>\n",
       "      <td>63185</td>\n",
       "      <td>26894</td>\n",
       "    </tr>\n",
       "    <tr>\n",
       "      <th>Meat seafood</th>\n",
       "      <td>394999</td>\n",
       "      <td>171141</td>\n",
       "      <td>71136</td>\n",
       "    </tr>\n",
       "    <tr>\n",
       "      <th>Missing</th>\n",
       "      <td>39561</td>\n",
       "      <td>16549</td>\n",
       "      <td>7279</td>\n",
       "    </tr>\n",
       "    <tr>\n",
       "      <th>Other</th>\n",
       "      <td>20399</td>\n",
       "      <td>8464</td>\n",
       "      <td>3709</td>\n",
       "    </tr>\n",
       "    <tr>\n",
       "      <th>Pantry</th>\n",
       "      <td>1050368</td>\n",
       "      <td>445398</td>\n",
       "      <td>185625</td>\n",
       "    </tr>\n",
       "    <tr>\n",
       "      <th>Personal care</th>\n",
       "      <td>251409</td>\n",
       "      <td>104507</td>\n",
       "      <td>43823</td>\n",
       "    </tr>\n",
       "    <tr>\n",
       "      <th>Pets</th>\n",
       "      <td>53286</td>\n",
       "      <td>23855</td>\n",
       "      <td>10664</td>\n",
       "    </tr>\n",
       "    <tr>\n",
       "      <th>Produce</th>\n",
       "      <td>5377850</td>\n",
       "      <td>2283191</td>\n",
       "      <td>947660</td>\n",
       "    </tr>\n",
       "    <tr>\n",
       "      <th>Snacks</th>\n",
       "      <td>1643411</td>\n",
       "      <td>690133</td>\n",
       "      <td>286989</td>\n",
       "    </tr>\n",
       "  </tbody>\n",
       "</table>\n",
       "</div>"
      ],
      "text/plain": [
       "age_profile        Adult   Senior  Young Adult\n",
       "department_name                               \n",
       "Alcohol            84415    34183        16269\n",
       "Babies            246802   101291        43614\n",
       "Bakery            663906   279817       116889\n",
       "Beverages        1524563   648309       264714\n",
       "Breakfast         396737   165273        71459\n",
       "Bulk               19833     8564         3601\n",
       "Canned goods      597044   252134       105271\n",
       "Dairy eggs       3069118  1296733       543502\n",
       "Deli              593629   250334       103590\n",
       "Dry goods pasta   482979   204580        86434\n",
       "Frozen           1245162   531180       220102\n",
       "Household         410616   175739        72620\n",
       "International     150790    63185        26894\n",
       "Meat seafood      394999   171141        71136\n",
       "Missing            39561    16549         7279\n",
       "Other              20399     8464         3709\n",
       "Pantry           1050368   445398       185625\n",
       "Personal care     251409   104507        43823\n",
       "Pets               53286    23855        10664\n",
       "Produce          5377850  2283191       947660\n",
       "Snacks           1643411   690133       286989"
      ]
     },
     "execution_count": 14,
     "metadata": {},
     "output_type": "execute_result"
    }
   ],
   "source": [
    "#view results \n",
    "age_department"
   ]
  },
  {
   "cell_type": "code",
   "execution_count": 15,
   "id": "a8ec8a2b",
   "metadata": {},
   "outputs": [],
   "source": [
    "# Compare income profile to departments\n",
    "income_department = pd.crosstab(df_reg_activity['department_name'], df_reg_activity['income_profile'], dropna = False)"
   ]
  },
  {
   "cell_type": "code",
   "execution_count": 16,
   "id": "b10975ea",
   "metadata": {},
   "outputs": [
    {
     "data": {
      "text/html": [
       "<div>\n",
       "<style scoped>\n",
       "    .dataframe tbody tr th:only-of-type {\n",
       "        vertical-align: middle;\n",
       "    }\n",
       "\n",
       "    .dataframe tbody tr th {\n",
       "        vertical-align: top;\n",
       "    }\n",
       "\n",
       "    .dataframe thead th {\n",
       "        text-align: right;\n",
       "    }\n",
       "</style>\n",
       "<table border=\"1\" class=\"dataframe\">\n",
       "  <thead>\n",
       "    <tr style=\"text-align: right;\">\n",
       "      <th>income_profile</th>\n",
       "      <th>Upper Middle Income</th>\n",
       "      <th>Low Income</th>\n",
       "      <th>Lower Middle Income</th>\n",
       "      <th>Middle Income</th>\n",
       "      <th>Upper Income</th>\n",
       "    </tr>\n",
       "    <tr>\n",
       "      <th>department_name</th>\n",
       "      <th></th>\n",
       "      <th></th>\n",
       "      <th></th>\n",
       "      <th></th>\n",
       "      <th></th>\n",
       "    </tr>\n",
       "  </thead>\n",
       "  <tbody>\n",
       "    <tr>\n",
       "      <th>Alcohol</th>\n",
       "      <td>55692</td>\n",
       "      <td>3319</td>\n",
       "      <td>17044</td>\n",
       "      <td>56511</td>\n",
       "      <td>2301</td>\n",
       "    </tr>\n",
       "    <tr>\n",
       "      <th>Babies</th>\n",
       "      <td>163318</td>\n",
       "      <td>3955</td>\n",
       "      <td>37310</td>\n",
       "      <td>186576</td>\n",
       "      <td>548</td>\n",
       "    </tr>\n",
       "    <tr>\n",
       "      <th>Bakery</th>\n",
       "      <td>437534</td>\n",
       "      <td>17701</td>\n",
       "      <td>118128</td>\n",
       "      <td>484009</td>\n",
       "      <td>3240</td>\n",
       "    </tr>\n",
       "    <tr>\n",
       "      <th>Beverages</th>\n",
       "      <td>938456</td>\n",
       "      <td>69666</td>\n",
       "      <td>384112</td>\n",
       "      <td>1038642</td>\n",
       "      <td>6710</td>\n",
       "    </tr>\n",
       "    <tr>\n",
       "      <th>Breakfast</th>\n",
       "      <td>246337</td>\n",
       "      <td>16233</td>\n",
       "      <td>93730</td>\n",
       "      <td>275483</td>\n",
       "      <td>1686</td>\n",
       "    </tr>\n",
       "    <tr>\n",
       "      <th>Bulk</th>\n",
       "      <td>11825</td>\n",
       "      <td>888</td>\n",
       "      <td>4815</td>\n",
       "      <td>14466</td>\n",
       "      <td>4</td>\n",
       "    </tr>\n",
       "    <tr>\n",
       "      <th>Canned goods</th>\n",
       "      <td>402764</td>\n",
       "      <td>12553</td>\n",
       "      <td>93320</td>\n",
       "      <td>443180</td>\n",
       "      <td>2632</td>\n",
       "    </tr>\n",
       "    <tr>\n",
       "      <th>Dairy eggs</th>\n",
       "      <td>2007818</td>\n",
       "      <td>84301</td>\n",
       "      <td>559010</td>\n",
       "      <td>2246464</td>\n",
       "      <td>11760</td>\n",
       "    </tr>\n",
       "    <tr>\n",
       "      <th>Deli</th>\n",
       "      <td>382574</td>\n",
       "      <td>18871</td>\n",
       "      <td>114411</td>\n",
       "      <td>429783</td>\n",
       "      <td>1914</td>\n",
       "    </tr>\n",
       "    <tr>\n",
       "      <th>Dry goods pasta</th>\n",
       "      <td>323852</td>\n",
       "      <td>10352</td>\n",
       "      <td>75944</td>\n",
       "      <td>361859</td>\n",
       "      <td>1986</td>\n",
       "    </tr>\n",
       "    <tr>\n",
       "      <th>Frozen</th>\n",
       "      <td>818103</td>\n",
       "      <td>37739</td>\n",
       "      <td>231763</td>\n",
       "      <td>903762</td>\n",
       "      <td>5077</td>\n",
       "    </tr>\n",
       "    <tr>\n",
       "      <th>Household</th>\n",
       "      <td>264177</td>\n",
       "      <td>15654</td>\n",
       "      <td>88992</td>\n",
       "      <td>286628</td>\n",
       "      <td>3524</td>\n",
       "    </tr>\n",
       "    <tr>\n",
       "      <th>International</th>\n",
       "      <td>99009</td>\n",
       "      <td>3855</td>\n",
       "      <td>24450</td>\n",
       "      <td>112972</td>\n",
       "      <td>583</td>\n",
       "    </tr>\n",
       "    <tr>\n",
       "      <th>Meat seafood</th>\n",
       "      <td>278698</td>\n",
       "      <td>4531</td>\n",
       "      <td>46864</td>\n",
       "      <td>305559</td>\n",
       "      <td>1624</td>\n",
       "    </tr>\n",
       "    <tr>\n",
       "      <th>Missing</th>\n",
       "      <td>25366</td>\n",
       "      <td>1176</td>\n",
       "      <td>7532</td>\n",
       "      <td>29235</td>\n",
       "      <td>80</td>\n",
       "    </tr>\n",
       "    <tr>\n",
       "      <th>Other</th>\n",
       "      <td>13101</td>\n",
       "      <td>840</td>\n",
       "      <td>3827</td>\n",
       "      <td>14667</td>\n",
       "      <td>137</td>\n",
       "    </tr>\n",
       "    <tr>\n",
       "      <th>Pantry</th>\n",
       "      <td>696945</td>\n",
       "      <td>27534</td>\n",
       "      <td>184739</td>\n",
       "      <td>767873</td>\n",
       "      <td>4300</td>\n",
       "    </tr>\n",
       "    <tr>\n",
       "      <th>Personal care</th>\n",
       "      <td>159935</td>\n",
       "      <td>8404</td>\n",
       "      <td>50651</td>\n",
       "      <td>179653</td>\n",
       "      <td>1096</td>\n",
       "    </tr>\n",
       "    <tr>\n",
       "      <th>Pets</th>\n",
       "      <td>37105</td>\n",
       "      <td>1332</td>\n",
       "      <td>9715</td>\n",
       "      <td>39098</td>\n",
       "      <td>555</td>\n",
       "    </tr>\n",
       "    <tr>\n",
       "      <th>Produce</th>\n",
       "      <td>3529630</td>\n",
       "      <td>139920</td>\n",
       "      <td>936724</td>\n",
       "      <td>3988691</td>\n",
       "      <td>13736</td>\n",
       "    </tr>\n",
       "    <tr>\n",
       "      <th>Snacks</th>\n",
       "      <td>918404</td>\n",
       "      <td>106675</td>\n",
       "      <td>530602</td>\n",
       "      <td>1058520</td>\n",
       "      <td>6332</td>\n",
       "    </tr>\n",
       "  </tbody>\n",
       "</table>\n",
       "</div>"
      ],
      "text/plain": [
       "income_profile    Upper Middle Income  Low Income  Lower Middle Income  \\\n",
       "department_name                                                          \n",
       "Alcohol                         55692        3319                17044   \n",
       "Babies                         163318        3955                37310   \n",
       "Bakery                         437534       17701               118128   \n",
       "Beverages                      938456       69666               384112   \n",
       "Breakfast                      246337       16233                93730   \n",
       "Bulk                            11825         888                 4815   \n",
       "Canned goods                   402764       12553                93320   \n",
       "Dairy eggs                    2007818       84301               559010   \n",
       "Deli                           382574       18871               114411   \n",
       "Dry goods pasta                323852       10352                75944   \n",
       "Frozen                         818103       37739               231763   \n",
       "Household                      264177       15654                88992   \n",
       "International                   99009        3855                24450   \n",
       "Meat seafood                   278698        4531                46864   \n",
       "Missing                         25366        1176                 7532   \n",
       "Other                           13101         840                 3827   \n",
       "Pantry                         696945       27534               184739   \n",
       "Personal care                  159935        8404                50651   \n",
       "Pets                            37105        1332                 9715   \n",
       "Produce                       3529630      139920               936724   \n",
       "Snacks                         918404      106675               530602   \n",
       "\n",
       "income_profile   Middle Income  Upper Income  \n",
       "department_name                               \n",
       "Alcohol                  56511          2301  \n",
       "Babies                  186576           548  \n",
       "Bakery                  484009          3240  \n",
       "Beverages              1038642          6710  \n",
       "Breakfast               275483          1686  \n",
       "Bulk                     14466             4  \n",
       "Canned goods            443180          2632  \n",
       "Dairy eggs             2246464         11760  \n",
       "Deli                    429783          1914  \n",
       "Dry goods pasta         361859          1986  \n",
       "Frozen                  903762          5077  \n",
       "Household               286628          3524  \n",
       "International           112972           583  \n",
       "Meat seafood            305559          1624  \n",
       "Missing                  29235            80  \n",
       "Other                    14667           137  \n",
       "Pantry                  767873          4300  \n",
       "Personal care           179653          1096  \n",
       "Pets                     39098           555  \n",
       "Produce                3988691         13736  \n",
       "Snacks                 1058520          6332  "
      ]
     },
     "execution_count": 16,
     "metadata": {},
     "output_type": "execute_result"
    }
   ],
   "source": [
    "#view results\n",
    "income_department"
   ]
  },
  {
   "cell_type": "code",
   "execution_count": 17,
   "id": "021b92cb",
   "metadata": {},
   "outputs": [],
   "source": [
    "# Compare dependent profile to departments \n",
    "dependent_department = pd.crosstab(df_reg_activity['department_name'], df_reg_activity['dependent_profile'], dropna = False)"
   ]
  },
  {
   "cell_type": "code",
   "execution_count": 18,
   "id": "746c3d37",
   "metadata": {},
   "outputs": [
    {
     "data": {
      "text/html": [
       "<div>\n",
       "<style scoped>\n",
       "    .dataframe tbody tr th:only-of-type {\n",
       "        vertical-align: middle;\n",
       "    }\n",
       "\n",
       "    .dataframe tbody tr th {\n",
       "        vertical-align: top;\n",
       "    }\n",
       "\n",
       "    .dataframe thead th {\n",
       "        text-align: right;\n",
       "    }\n",
       "</style>\n",
       "<table border=\"1\" class=\"dataframe\">\n",
       "  <thead>\n",
       "    <tr style=\"text-align: right;\">\n",
       "      <th>dependent_profile</th>\n",
       "      <th>Family</th>\n",
       "      <th>Individual</th>\n",
       "    </tr>\n",
       "    <tr>\n",
       "      <th>department_name</th>\n",
       "      <th></th>\n",
       "      <th></th>\n",
       "    </tr>\n",
       "  </thead>\n",
       "  <tbody>\n",
       "    <tr>\n",
       "      <th>Alcohol</th>\n",
       "      <td>100384</td>\n",
       "      <td>34483</td>\n",
       "    </tr>\n",
       "    <tr>\n",
       "      <th>Babies</th>\n",
       "      <td>293219</td>\n",
       "      <td>98488</td>\n",
       "    </tr>\n",
       "    <tr>\n",
       "      <th>Bakery</th>\n",
       "      <td>794437</td>\n",
       "      <td>266175</td>\n",
       "    </tr>\n",
       "    <tr>\n",
       "      <th>Beverages</th>\n",
       "      <td>1825642</td>\n",
       "      <td>611944</td>\n",
       "    </tr>\n",
       "    <tr>\n",
       "      <th>Breakfast</th>\n",
       "      <td>476317</td>\n",
       "      <td>157152</td>\n",
       "    </tr>\n",
       "    <tr>\n",
       "      <th>Bulk</th>\n",
       "      <td>24363</td>\n",
       "      <td>7635</td>\n",
       "    </tr>\n",
       "    <tr>\n",
       "      <th>Canned goods</th>\n",
       "      <td>717569</td>\n",
       "      <td>236880</td>\n",
       "    </tr>\n",
       "    <tr>\n",
       "      <th>Dairy eggs</th>\n",
       "      <td>3681978</td>\n",
       "      <td>1227375</td>\n",
       "    </tr>\n",
       "    <tr>\n",
       "      <th>Deli</th>\n",
       "      <td>708187</td>\n",
       "      <td>239366</td>\n",
       "    </tr>\n",
       "    <tr>\n",
       "      <th>Dry goods pasta</th>\n",
       "      <td>581620</td>\n",
       "      <td>192373</td>\n",
       "    </tr>\n",
       "    <tr>\n",
       "      <th>Frozen</th>\n",
       "      <td>1498500</td>\n",
       "      <td>497944</td>\n",
       "    </tr>\n",
       "    <tr>\n",
       "      <th>Household</th>\n",
       "      <td>497529</td>\n",
       "      <td>161446</td>\n",
       "    </tr>\n",
       "    <tr>\n",
       "      <th>International</th>\n",
       "      <td>180198</td>\n",
       "      <td>60671</td>\n",
       "    </tr>\n",
       "    <tr>\n",
       "      <th>Meat seafood</th>\n",
       "      <td>480752</td>\n",
       "      <td>156524</td>\n",
       "    </tr>\n",
       "    <tr>\n",
       "      <th>Missing</th>\n",
       "      <td>47788</td>\n",
       "      <td>15601</td>\n",
       "    </tr>\n",
       "    <tr>\n",
       "      <th>Other</th>\n",
       "      <td>24318</td>\n",
       "      <td>8254</td>\n",
       "    </tr>\n",
       "    <tr>\n",
       "      <th>Pantry</th>\n",
       "      <td>1262738</td>\n",
       "      <td>418653</td>\n",
       "    </tr>\n",
       "    <tr>\n",
       "      <th>Personal care</th>\n",
       "      <td>299692</td>\n",
       "      <td>100047</td>\n",
       "    </tr>\n",
       "    <tr>\n",
       "      <th>Pets</th>\n",
       "      <td>65551</td>\n",
       "      <td>22254</td>\n",
       "    </tr>\n",
       "    <tr>\n",
       "      <th>Produce</th>\n",
       "      <td>6450912</td>\n",
       "      <td>2157789</td>\n",
       "    </tr>\n",
       "    <tr>\n",
       "      <th>Snacks</th>\n",
       "      <td>1966700</td>\n",
       "      <td>653833</td>\n",
       "    </tr>\n",
       "  </tbody>\n",
       "</table>\n",
       "</div>"
      ],
      "text/plain": [
       "dependent_profile   Family  Individual\n",
       "department_name                       \n",
       "Alcohol             100384       34483\n",
       "Babies              293219       98488\n",
       "Bakery              794437      266175\n",
       "Beverages          1825642      611944\n",
       "Breakfast           476317      157152\n",
       "Bulk                 24363        7635\n",
       "Canned goods        717569      236880\n",
       "Dairy eggs         3681978     1227375\n",
       "Deli                708187      239366\n",
       "Dry goods pasta     581620      192373\n",
       "Frozen             1498500      497944\n",
       "Household           497529      161446\n",
       "International       180198       60671\n",
       "Meat seafood        480752      156524\n",
       "Missing              47788       15601\n",
       "Other                24318        8254\n",
       "Pantry             1262738      418653\n",
       "Personal care       299692      100047\n",
       "Pets                 65551       22254\n",
       "Produce            6450912     2157789\n",
       "Snacks             1966700      653833"
      ]
     },
     "execution_count": 18,
     "metadata": {},
     "output_type": "execute_result"
    }
   ],
   "source": [
    "#view results \n",
    "dependent_department"
   ]
  },
  {
   "cell_type": "markdown",
   "id": "a6b84961",
   "metadata": {},
   "source": [
    "### Visualizations of Comparisons"
   ]
  },
  {
   "cell_type": "code",
   "execution_count": 20,
   "id": "030df541",
   "metadata": {},
   "outputs": [
    {
     "data": {
      "image/png": "[encoded data removed]",
      "text/plain": [
       "<Figure size 432x288 with 1 Axes>"
      ]
     },
     "metadata": {
      "needs_background": "light"
     },
     "output_type": "display_data"
    }
   ],
   "source": [
    "#create stacked bar chart for department by age \n",
    "age_department_bar= age_department.plot(kind = 'bar', stacked= True)"
   ]
  },
  {
   "cell_type": "code",
   "execution_count": 21,
   "id": "fae1eb0d",
   "metadata": {},
   "outputs": [
    {
     "data": {
      "image/png": "[encoded data removed]",
      "text/plain": [
       "<Figure size 432x288 with 1 Axes>"
      ]
     },
     "metadata": {
      "needs_background": "light"
     },
     "output_type": "display_data"
    }
   ],
   "source": [
    "# create stacked bar chart for department by income \n",
    "income_department_bar = income_department.plot(kind= 'bar', stacked= True)"
   ]
  },
  {
   "cell_type": "code",
   "execution_count": 22,
   "id": "0d1cc0d4",
   "metadata": {},
   "outputs": [
    {
     "data": {
      "image/png": "[encoded data removed]",
      "text/plain": [
       "<Figure size 432x288 with 1 Axes>"
      ]
     },
     "metadata": {
      "needs_background": "light"
     },
     "output_type": "display_data"
    }
   ],
   "source": [
    "# create stacked bar for department  by number of dependents  \n",
    "dependent_department_bar = dependent_department.plot(kind= 'bar', stacked= True)"
   ]
  },
  {
   "cell_type": "code",
   "execution_count": 25,
   "id": "48fc5af7",
   "metadata": {},
   "outputs": [
    {
     "data": {
      "image/png": "[encoded data removed]",
      "text/plain": [
       "<Figure size 432x288 with 1 Axes>"
      ]
     },
     "metadata": {
      "needs_background": "light"
     },
     "output_type": "display_data"
    }
   ],
   "source": [
    "# create bar chart for income by region \n",
    "income_region_bar = income_region.plot.bar()"
   ]
  },
  {
   "cell_type": "code",
   "execution_count": 26,
   "id": "a3f0469f",
   "metadata": {},
   "outputs": [
    {
     "data": {
      "image/png": "[encoded data removed]",
      "text/plain": [
       "<Figure size 432x288 with 1 Axes>"
      ]
     },
     "metadata": {
      "needs_background": "light"
     },
     "output_type": "display_data"
    }
   ],
   "source": [
    "#create a bar chart for age by region \n",
    "age_region_bar = age_region.plot.bar()"
   ]
  },
  {
   "cell_type": "code",
   "execution_count": 27,
   "id": "f8941648",
   "metadata": {},
   "outputs": [
    {
     "data": {
      "image/png": "[encoded data removed]",
      "text/plain": [
       "<Figure size 432x288 with 1 Axes>"
      ]
     },
     "metadata": {
      "needs_background": "light"
     },
     "output_type": "display_data"
    }
   ],
   "source": [
    "# create a bar chart for number of dependents by regions\n",
    "dependent_region_bar = dependent_region.plot.bar()"
   ]
  },
  {
   "cell_type": "markdown",
   "id": "baa2550a",
   "metadata": {},
   "source": [
    "### Export charts "
   ]
  },
  {
   "cell_type": "code",
   "execution_count": 28,
   "id": "79cedee6",
   "metadata": {},
   "outputs": [],
   "source": [
    "dependent_region_bar.figure.savefig(os.path.join(path, '4.0 Analysis','Visualizations', 'dependent_region_bar.png'))"
   ]
  },
  {
   "cell_type": "code",
   "execution_count": 29,
   "id": "bc9fcb39",
   "metadata": {},
   "outputs": [],
   "source": [
    "age_region_bar.figure.savefig(os.path.join(path, '4.0 Analysis','Visualizations', 'age_region_bar.png'))"
   ]
  },
  {
   "cell_type": "code",
   "execution_count": 30,
   "id": "60b9fcb5",
   "metadata": {},
   "outputs": [],
   "source": [
    "income_region_bar.figure.savefig(os.path.join(path, '4.0 Analysis','Visualizations', 'income_region_bar.png'))"
   ]
  },
  {
   "cell_type": "code",
   "execution_count": 31,
   "id": "fca9760a",
   "metadata": {},
   "outputs": [],
   "source": [
    "dependent_department_bar.figure.savefig(os.path.join(path, '4.0 Analysis','Visualizations', 'dependent_department_bar.png'))"
   ]
  },
  {
   "cell_type": "code",
   "execution_count": 32,
   "id": "d45c9259",
   "metadata": {},
   "outputs": [],
   "source": [
    "age_department_bar.figure.savefig(os.path.join(path, '4.0 Analysis','Visualizations', 'age_department_bar.png'))"
   ]
  },
  {
   "cell_type": "code",
   "execution_count": 33,
   "id": "320458b9",
   "metadata": {},
   "outputs": [],
   "source": [
    "income_department_bar.figure.savefig(os.path.join(path, '4.0 Analysis','Visualizations', 'income_department_bar.png'))"
   ]
  },
  {
   "cell_type": "code",
   "execution_count": 34,
   "id": "272d113e",
   "metadata": {},
   "outputs": [
    {
     "data": {
      "text/plain": [
       "(29303281, 36)"
      ]
     },
     "execution_count": 34,
     "metadata": {},
     "output_type": "execute_result"
    }
   ],
   "source": [
    "df_reg_activity.shape"
   ]
  },
  {
   "cell_type": "code",
   "execution_count": null,
   "id": "13463bd9",
   "metadata": {},
   "outputs": [],
   "source": []
  },
  {
   "cell_type": "markdown",
   "id": "281929ce",
   "metadata": {},
   "source": [
    "### Additional charts or adjusted charts for task"
   ]
  },
  {
   "cell_type": "code",
   "execution_count": 37,
   "id": "02ff1b74",
   "metadata": {},
   "outputs": [
    {
     "data": {
      "image/png": "[encoded data removed]",
      "text/plain": [
       "<Figure size 432x288 with 1 Axes>"
      ]
     },
     "metadata": {},
     "output_type": "display_data"
    }
   ],
   "source": [
    "# create a pie chart from price range \n",
    "price_range_pie = df_reg_activity['price_range_loc'].value_counts().sort_index().plot.pie(ylabel = 'Price range', autopct = '%1.1f%%')"
   ]
  },
  {
   "cell_type": "code",
   "execution_count": 39,
   "id": "14d9d974",
   "metadata": {},
   "outputs": [],
   "source": [
    "price_range_pie.figure.savefig(os.path.join(path, '4.0 Analysis','Visualizations', 'price_range_pie.png'))"
   ]
  },
  {
   "cell_type": "code",
   "execution_count": 40,
   "id": "05163dc8",
   "metadata": {},
   "outputs": [],
   "source": [
    "income_department_bar.figure.savefig(os.path.join(path, '4.0 Analysis','Visualizations', 'income_department_bar.pdf'))"
   ]
  },
  {
   "cell_type": "code",
   "execution_count": 41,
   "id": "5bdd4ca4",
   "metadata": {},
   "outputs": [
    {
     "data": {
      "image/png": "[encoded data removed]",
      "text/plain": [
       "<Figure size 432x288 with 1 Axes>"
      ]
     },
     "metadata": {},
     "output_type": "display_data"
    }
   ],
   "source": [
    "# create pie chart for loyalty \n",
    "customer_loyalty_pie = df_reg_activity['loyalty_flag'].value_counts().sort_index().plot.pie(ylabel = 'Brand Loyalty', autopct = '%1.1f%%')"
   ]
  },
  {
   "cell_type": "code",
   "execution_count": 43,
   "id": "3166f792",
   "metadata": {},
   "outputs": [],
   "source": [
    "customer_loyalty_pie.figure.savefig(os.path.join(path, '4.0 Analysis','Visualizations', 'customer_loyal_pie.png'))"
   ]
  },
  {
   "cell_type": "code",
   "execution_count": 47,
   "id": "38d4e1f3",
   "metadata": {},
   "outputs": [],
   "source": [
    "# compare loyalty_flag to spender_flag\n",
    "spend_habits_loyalty = pd.crosstab(df_reg_activity['loyalty_flag'], df_reg_activity['spender_flag'], dropna = False)"
   ]
  },
  {
   "cell_type": "code",
   "execution_count": 48,
   "id": "02091989",
   "metadata": {},
   "outputs": [
    {
     "data": {
      "text/html": [
       "<div>\n",
       "<style scoped>\n",
       "    .dataframe tbody tr th:only-of-type {\n",
       "        vertical-align: middle;\n",
       "    }\n",
       "\n",
       "    .dataframe tbody tr th {\n",
       "        vertical-align: top;\n",
       "    }\n",
       "\n",
       "    .dataframe thead th {\n",
       "        text-align: right;\n",
       "    }\n",
       "</style>\n",
       "<table border=\"1\" class=\"dataframe\">\n",
       "  <thead>\n",
       "    <tr style=\"text-align: right;\">\n",
       "      <th>spender_flag</th>\n",
       "      <th>High spender</th>\n",
       "      <th>Low spender</th>\n",
       "    </tr>\n",
       "    <tr>\n",
       "      <th>loyalty_flag</th>\n",
       "      <th></th>\n",
       "      <th></th>\n",
       "    </tr>\n",
       "  </thead>\n",
       "  <tbody>\n",
       "    <tr>\n",
       "      <th>Loyal customer</th>\n",
       "      <td>211798</td>\n",
       "      <td>9883583</td>\n",
       "    </tr>\n",
       "    <tr>\n",
       "      <th>New customer</th>\n",
       "      <td>74169</td>\n",
       "      <td>4052040</td>\n",
       "    </tr>\n",
       "    <tr>\n",
       "      <th>Regular customer</th>\n",
       "      <td>284307</td>\n",
       "      <td>14797384</td>\n",
       "    </tr>\n",
       "  </tbody>\n",
       "</table>\n",
       "</div>"
      ],
      "text/plain": [
       "spender_flag      High spender  Low spender\n",
       "loyalty_flag                               \n",
       "Loyal customer          211798      9883583\n",
       "New customer             74169      4052040\n",
       "Regular customer        284307     14797384"
      ]
     },
     "execution_count": 48,
     "metadata": {},
     "output_type": "execute_result"
    }
   ],
   "source": [
    "spend_habits_loyalty"
   ]
  },
  {
   "cell_type": "code",
   "execution_count": 49,
   "id": "3043df12",
   "metadata": {},
   "outputs": [
    {
     "data": {
      "image/png": "[encoded data removed]",
      "text/plain": [
       "<Figure size 432x288 with 1 Axes>"
      ]
     },
     "metadata": {
      "needs_background": "light"
     },
     "output_type": "display_data"
    }
   ],
   "source": [
    "spend_habits_loyalty_bar = spend_habits_loyalty.plot(kind= 'bar', stacked= True)"
   ]
  },
  {
   "cell_type": "code",
   "execution_count": 50,
   "id": "8a729f89",
   "metadata": {},
   "outputs": [],
   "source": [
    "spend_habits_loyalty_bar.figure.savefig(os.path.join(path, '4.0 Analysis','Visualizations', 'spend_habits_loyalty_bar.png'))"
   ]
  },
  {
   "cell_type": "code",
   "execution_count": 51,
   "id": "f22e87dc",
   "metadata": {},
   "outputs": [
    {
     "data": {
      "text/plain": [
       "Index(['user_id', 'Gender', 'STATE', 'Age', 'date_joined', 'no_of_dependents',\n",
       "       'fam_status', 'income', 'order_id', 'order_number',\n",
       "       'orders_day_of_week', 'order_time_of_day', 'days_since_prior_order',\n",
       "       'product_id', 'add_to_cart_order', 'reordered', 'product_name',\n",
       "       'aisle_id', 'department_id', 'prices', '_merge', 'price_range_loc',\n",
       "       'busiest_days', 'busiest_period_of_day', 'max_order', 'loyalty_flag',\n",
       "       'avg_spent', 'spender_flag', 'median_days_since_order',\n",
       "       'frequency_flag', 'region', 'customer_activity', 'age_profile',\n",
       "       'income_profile', 'dependent_profile', 'department_name'],\n",
       "      dtype='object')"
      ]
     },
     "execution_count": 51,
     "metadata": {},
     "output_type": "execute_result"
    }
   ],
   "source": [
    "df_reg_activity.columns"
   ]
  },
  {
   "cell_type": "code",
   "execution_count": 54,
   "id": "fcb4f5bb",
   "metadata": {},
   "outputs": [],
   "source": [
    "# compare frequency flag and region\n",
    "order_habits_region = pd.crosstab(df_reg_activity['region'], df_reg_activity['frequency_flag'], dropna = False)"
   ]
  },
  {
   "cell_type": "code",
   "execution_count": 62,
   "id": "d05e2740",
   "metadata": {},
   "outputs": [
    {
     "data": {
      "text/html": [
       "<div>\n",
       "<style scoped>\n",
       "    .dataframe tbody tr th:only-of-type {\n",
       "        vertical-align: middle;\n",
       "    }\n",
       "\n",
       "    .dataframe tbody tr th {\n",
       "        vertical-align: top;\n",
       "    }\n",
       "\n",
       "    .dataframe thead th {\n",
       "        text-align: right;\n",
       "    }\n",
       "</style>\n",
       "<table border=\"1\" class=\"dataframe\">\n",
       "  <thead>\n",
       "    <tr style=\"text-align: right;\">\n",
       "      <th>frequency_flag</th>\n",
       "      <th>Frequent customer</th>\n",
       "      <th>Non-frequent customer</th>\n",
       "      <th>Regular customer</th>\n",
       "    </tr>\n",
       "    <tr>\n",
       "      <th>region</th>\n",
       "      <th></th>\n",
       "      <th></th>\n",
       "      <th></th>\n",
       "    </tr>\n",
       "  </thead>\n",
       "  <tbody>\n",
       "    <tr>\n",
       "      <th>Midwest</th>\n",
       "      <td>4479018</td>\n",
       "      <td>603286</td>\n",
       "      <td>1513833</td>\n",
       "    </tr>\n",
       "    <tr>\n",
       "      <th>Northeast</th>\n",
       "      <td>3409478</td>\n",
       "      <td>434171</td>\n",
       "      <td>1134061</td>\n",
       "    </tr>\n",
       "    <tr>\n",
       "      <th>South</th>\n",
       "      <td>6414477</td>\n",
       "      <td>845756</td>\n",
       "      <td>2097556</td>\n",
       "    </tr>\n",
       "    <tr>\n",
       "      <th>West</th>\n",
       "      <td>4952576</td>\n",
       "      <td>647275</td>\n",
       "      <td>1603076</td>\n",
       "    </tr>\n",
       "  </tbody>\n",
       "</table>\n",
       "</div>"
      ],
      "text/plain": [
       "frequency_flag  Frequent customer  Non-frequent customer  Regular customer\n",
       "region                                                                    \n",
       "Midwest                   4479018                 603286           1513833\n",
       "Northeast                 3409478                 434171           1134061\n",
       "South                     6414477                 845756           2097556\n",
       "West                      4952576                 647275           1603076"
      ]
     },
     "execution_count": 62,
     "metadata": {},
     "output_type": "execute_result"
    }
   ],
   "source": [
    "order_habits_region"
   ]
  },
  {
   "cell_type": "code",
   "execution_count": 63,
   "id": "8607a6db",
   "metadata": {},
   "outputs": [
    {
     "data": {
      "image/png": "[encoded data removed]",
      "text/plain": [
       "<Figure size 432x288 with 1 Axes>"
      ]
     },
     "metadata": {
      "needs_background": "light"
     },
     "output_type": "display_data"
    }
   ],
   "source": [
    "#\n",
    "order_habits_region_bar = order_habits_region.plot(kind= 'bar', stacked= True)"
   ]
  },
  {
   "cell_type": "code",
   "execution_count": 64,
   "id": "1603c91d",
   "metadata": {},
   "outputs": [],
   "source": [
    "order_habits_region_bar.figure.savefig(os.path.join(path, '4.0 Analysis','Visualizations', 'order_habits_region_bar.png'))"
   ]
  },
  {
   "cell_type": "code",
   "execution_count": 67,
   "id": "9b582c5e",
   "metadata": {},
   "outputs": [
    {
     "data": {
      "image/png": "[encoded data removed]",
      "text/plain": [
       "<Figure size 432x288 with 1 Axes>"
      ]
     },
     "metadata": {
      "needs_background": "light"
     },
     "output_type": "display_data"
    }
   ],
   "source": [
    "age_profile_bar= df_reg_activity ['age_profile'].value_counts().sort_index().plot.bar(color = [ 'purple', 'blue', 'red'])"
   ]
  },
  {
   "cell_type": "code",
   "execution_count": 68,
   "id": "18462a96",
   "metadata": {},
   "outputs": [],
   "source": [
    "age_profile_bar.figure.savefig(os.path.join(path, '4.0 Analysis','Visualizations', 'age_profile_bar.png'))"
   ]
  },
  {
   "cell_type": "code",
   "execution_count": 70,
   "id": "3ec83776",
   "metadata": {},
   "outputs": [],
   "source": [
    "age_depends = pd.crosstab(df_reg_activity['age_profile'], df_reg_activity['dependent_profile'], dropna = False)"
   ]
  },
  {
   "cell_type": "code",
   "execution_count": 71,
   "id": "2aaf892e",
   "metadata": {},
   "outputs": [
    {
     "data": {
      "text/html": [
       "<div>\n",
       "<style scoped>\n",
       "    .dataframe tbody tr th:only-of-type {\n",
       "        vertical-align: middle;\n",
       "    }\n",
       "\n",
       "    .dataframe tbody tr th {\n",
       "        vertical-align: top;\n",
       "    }\n",
       "\n",
       "    .dataframe thead th {\n",
       "        text-align: right;\n",
       "    }\n",
       "</style>\n",
       "<table border=\"1\" class=\"dataframe\">\n",
       "  <thead>\n",
       "    <tr style=\"text-align: right;\">\n",
       "      <th>dependent_profile</th>\n",
       "      <th>Family</th>\n",
       "      <th>Individual</th>\n",
       "    </tr>\n",
       "    <tr>\n",
       "      <th>age_profile</th>\n",
       "      <th></th>\n",
       "      <th></th>\n",
       "    </tr>\n",
       "  </thead>\n",
       "  <tbody>\n",
       "    <tr>\n",
       "      <th>Adult</th>\n",
       "      <td>13685987</td>\n",
       "      <td>4630890</td>\n",
       "    </tr>\n",
       "    <tr>\n",
       "      <th>Senior</th>\n",
       "      <td>5840990</td>\n",
       "      <td>1913570</td>\n",
       "    </tr>\n",
       "    <tr>\n",
       "      <th>Young Adult</th>\n",
       "      <td>2451417</td>\n",
       "      <td>780427</td>\n",
       "    </tr>\n",
       "  </tbody>\n",
       "</table>\n",
       "</div>"
      ],
      "text/plain": [
       "dependent_profile    Family  Individual\n",
       "age_profile                            \n",
       "Adult              13685987     4630890\n",
       "Senior              5840990     1913570\n",
       "Young Adult         2451417      780427"
      ]
     },
     "execution_count": 71,
     "metadata": {},
     "output_type": "execute_result"
    }
   ],
   "source": [
    "age_depends"
   ]
  },
  {
   "cell_type": "code",
   "execution_count": 72,
   "id": "1072a10b",
   "metadata": {},
   "outputs": [
    {
     "data": {
      "image/png": "[encoded data removed]",
      "text/plain": [
       "<Figure size 432x288 with 1 Axes>"
      ]
     },
     "metadata": {
      "needs_background": "light"
     },
     "output_type": "display_data"
    }
   ],
   "source": [
    "age_depends_bar = age_depends.plot(kind= 'bar', stacked= True)"
   ]
  },
  {
   "cell_type": "code",
   "execution_count": 73,
   "id": "4e0e2eb4",
   "metadata": {},
   "outputs": [],
   "source": [
    "age_depends_bar.figure.savefig(os.path.join(path, '4.0 Analysis','Visualizations', 'age_depends_bar.png'))"
   ]
  },
  {
   "cell_type": "code",
   "execution_count": 74,
   "id": "df31ac5c",
   "metadata": {},
   "outputs": [],
   "source": [
    "age_loyalty = pd.crosstab(df_reg_activity['age_profile'], df_reg_activity['loyalty_flag'], dropna = False)"
   ]
  },
  {
   "cell_type": "code",
   "execution_count": 75,
   "id": "87730d67",
   "metadata": {},
   "outputs": [
    {
     "data": {
      "text/html": [
       "<div>\n",
       "<style scoped>\n",
       "    .dataframe tbody tr th:only-of-type {\n",
       "        vertical-align: middle;\n",
       "    }\n",
       "\n",
       "    .dataframe tbody tr th {\n",
       "        vertical-align: top;\n",
       "    }\n",
       "\n",
       "    .dataframe thead th {\n",
       "        text-align: right;\n",
       "    }\n",
       "</style>\n",
       "<table border=\"1\" class=\"dataframe\">\n",
       "  <thead>\n",
       "    <tr style=\"text-align: right;\">\n",
       "      <th>loyalty_flag</th>\n",
       "      <th>Loyal customer</th>\n",
       "      <th>New customer</th>\n",
       "      <th>Regular customer</th>\n",
       "    </tr>\n",
       "    <tr>\n",
       "      <th>age_profile</th>\n",
       "      <th></th>\n",
       "      <th></th>\n",
       "      <th></th>\n",
       "    </tr>\n",
       "  </thead>\n",
       "  <tbody>\n",
       "    <tr>\n",
       "      <th>Adult</th>\n",
       "      <td>6299379</td>\n",
       "      <td>2577005</td>\n",
       "      <td>9440493</td>\n",
       "    </tr>\n",
       "    <tr>\n",
       "      <th>Senior</th>\n",
       "      <td>2673586</td>\n",
       "      <td>1096926</td>\n",
       "      <td>3984048</td>\n",
       "    </tr>\n",
       "    <tr>\n",
       "      <th>Young Adult</th>\n",
       "      <td>1122416</td>\n",
       "      <td>452278</td>\n",
       "      <td>1657150</td>\n",
       "    </tr>\n",
       "  </tbody>\n",
       "</table>\n",
       "</div>"
      ],
      "text/plain": [
       "loyalty_flag  Loyal customer  New customer  Regular customer\n",
       "age_profile                                                 \n",
       "Adult                6299379       2577005           9440493\n",
       "Senior               2673586       1096926           3984048\n",
       "Young Adult          1122416        452278           1657150"
      ]
     },
     "execution_count": 75,
     "metadata": {},
     "output_type": "execute_result"
    }
   ],
   "source": [
    "age_loyalty"
   ]
  },
  {
   "cell_type": "code",
   "execution_count": 78,
   "id": "62440bcf",
   "metadata": {},
   "outputs": [
    {
     "data": {
      "image/png": "[encoded data removed]",
      "text/plain": [
       "<Figure size 432x288 with 1 Axes>"
      ]
     },
     "metadata": {
      "needs_background": "light"
     },
     "output_type": "display_data"
    }
   ],
   "source": [
    "age_loyalty_bar = age_loyalty.plot(kind= 'bar', stacked= True)"
   ]
  },
  {
   "cell_type": "code",
   "execution_count": 79,
   "id": "674c80da",
   "metadata": {},
   "outputs": [],
   "source": [
    "age_loyalty_bar.figure.savefig(os.path.join(path, '4.0 Analysis','Visualizations', 'age_loyalty_bar.png'))"
   ]
  },
  {
   "cell_type": "code",
   "execution_count": null,
   "id": "d7d2dd1b",
   "metadata": {},
   "outputs": [],
   "source": []
  },
  {
   "cell_type": "code",
   "execution_count": null,
   "id": "b29d5dc9",
   "metadata": {},
   "outputs": [],
   "source": []
  }
 ],
 "metadata": {
  "kernelspec": {
   "display_name": "Python 3 (ipykernel)",
   "language": "python",
   "name": "python3"
  },
  "language_info": {
   "codemirror_mode": {
    "name": "ipython",
    "version": 3
   },
   "file_extension": ".py",
   "mimetype": "text/x-python",
   "name": "python",
   "nbconvert_exporter": "python",
   "pygments_lexer": "ipython3",
   "version": "3.9.12"
  }
 },
 "nbformat": 4,
 "nbformat_minor": 5
}
