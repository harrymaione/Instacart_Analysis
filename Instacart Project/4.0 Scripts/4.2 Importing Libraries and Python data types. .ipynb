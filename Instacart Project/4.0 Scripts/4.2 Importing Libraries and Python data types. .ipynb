{
 "cells": [
  {
   "cell_type": "markdown",
   "id": "af1de5f2",
   "metadata": {},
   "source": [
    "# 01. Importing Libraries "
   ]
  },
  {
   "cell_type": "code",
   "execution_count": 2,
   "id": "3dbec797",
   "metadata": {},
   "outputs": [],
   "source": [
    "# Import libraries \n",
    "import pandas as pd\n",
    "import numpy as np\n",
    "import os \n"
   ]
  },
  {
   "cell_type": "markdown",
   "id": "832794db",
   "metadata": {},
   "source": [
    "# 02. Data Types "
   ]
  },
  {
   "cell_type": "code",
   "execution_count": 3,
   "id": "f34c4a25",
   "metadata": {},
   "outputs": [],
   "source": [
    "x=2\n"
   ]
  },
  {
   "cell_type": "code",
   "execution_count": 4,
   "id": "fc2c6404",
   "metadata": {},
   "outputs": [
    {
     "data": {
      "text/plain": [
       "2"
      ]
     },
     "execution_count": 4,
     "metadata": {},
     "output_type": "execute_result"
    }
   ],
   "source": [
    "x"
   ]
  },
  {
   "cell_type": "code",
   "execution_count": 5,
   "id": "bdd86047",
   "metadata": {},
   "outputs": [
    {
     "name": "stdout",
     "output_type": "stream",
     "text": [
      "2\n"
     ]
    }
   ],
   "source": [
    "print(x)"
   ]
  },
  {
   "cell_type": "code",
   "execution_count": 6,
   "id": "f1282855",
   "metadata": {},
   "outputs": [
    {
     "data": {
      "text/plain": [
       "int"
      ]
     },
     "execution_count": 6,
     "metadata": {},
     "output_type": "execute_result"
    }
   ],
   "source": [
    "type (x)"
   ]
  },
  {
   "cell_type": "code",
   "execution_count": 9,
   "id": "3e2c55f1",
   "metadata": {},
   "outputs": [],
   "source": [
    "y=5.678"
   ]
  },
  {
   "cell_type": "code",
   "execution_count": 10,
   "id": "f9c4ef89",
   "metadata": {},
   "outputs": [
    {
     "data": {
      "text/plain": [
       "float"
      ]
     },
     "execution_count": 10,
     "metadata": {},
     "output_type": "execute_result"
    }
   ],
   "source": [
    "type(y)"
   ]
  },
  {
   "cell_type": "code",
   "execution_count": 11,
   "id": "25679107",
   "metadata": {},
   "outputs": [],
   "source": [
    "z= 'brazil'"
   ]
  },
  {
   "cell_type": "code",
   "execution_count": 12,
   "id": "0148a7c1",
   "metadata": {},
   "outputs": [
    {
     "data": {
      "text/plain": [
       "str"
      ]
     },
     "execution_count": 12,
     "metadata": {},
     "output_type": "execute_result"
    }
   ],
   "source": [
    "type(z)"
   ]
  },
  {
   "cell_type": "code",
   "execution_count": 13,
   "id": "f4bc8e11",
   "metadata": {},
   "outputs": [
    {
     "data": {
      "text/plain": [
       "4"
      ]
     },
     "execution_count": 13,
     "metadata": {},
     "output_type": "execute_result"
    }
   ],
   "source": [
    "x+2"
   ]
  },
  {
   "cell_type": "code",
   "execution_count": 14,
   "id": "8d466461",
   "metadata": {},
   "outputs": [
    {
     "data": {
      "text/plain": [
       "7.678"
      ]
     },
     "execution_count": 14,
     "metadata": {},
     "output_type": "execute_result"
    }
   ],
   "source": [
    "x+y"
   ]
  },
  {
   "cell_type": "code",
   "execution_count": 15,
   "id": "76d34bdd",
   "metadata": {},
   "outputs": [],
   "source": [
    "x=x+4"
   ]
  },
  {
   "cell_type": "code",
   "execution_count": 16,
   "id": "cc45dcd7",
   "metadata": {},
   "outputs": [
    {
     "data": {
      "text/plain": [
       "6"
      ]
     },
     "execution_count": 16,
     "metadata": {},
     "output_type": "execute_result"
    }
   ],
   "source": [
    "x"
   ]
  },
  {
   "cell_type": "code",
   "execution_count": 17,
   "id": "15315ea1",
   "metadata": {},
   "outputs": [],
   "source": [
    "x=25"
   ]
  },
  {
   "cell_type": "code",
   "execution_count": 18,
   "id": "17908917",
   "metadata": {},
   "outputs": [
    {
     "data": {
      "text/plain": [
       "100"
      ]
     },
     "execution_count": 18,
     "metadata": {},
     "output_type": "execute_result"
    }
   ],
   "source": [
    "x*4"
   ]
  },
  {
   "cell_type": "code",
   "execution_count": 19,
   "id": "cd2f2f8f",
   "metadata": {},
   "outputs": [],
   "source": [
    "y=50"
   ]
  },
  {
   "cell_type": "code",
   "execution_count": 20,
   "id": "cb137cec",
   "metadata": {},
   "outputs": [
    {
     "data": {
      "text/plain": [
       "100"
      ]
     },
     "execution_count": 20,
     "metadata": {},
     "output_type": "execute_result"
    }
   ],
   "source": [
    "y+y"
   ]
  },
  {
   "cell_type": "code",
   "execution_count": 21,
   "id": "6ab4875c",
   "metadata": {},
   "outputs": [
    {
     "data": {
      "text/plain": [
       "100"
      ]
     },
     "execution_count": 21,
     "metadata": {},
     "output_type": "execute_result"
    }
   ],
   "source": [
    "y+x+x"
   ]
  },
  {
   "cell_type": "code",
   "execution_count": 22,
   "id": "235ff86a",
   "metadata": {},
   "outputs": [],
   "source": [
    "x=10.2"
   ]
  },
  {
   "cell_type": "code",
   "execution_count": 23,
   "id": "aa9ef7d4",
   "metadata": {},
   "outputs": [],
   "source": [
    "y=4.4"
   ]
  },
  {
   "cell_type": "code",
   "execution_count": 24,
   "id": "5169356a",
   "metadata": {},
   "outputs": [
    {
     "data": {
      "text/plain": [
       "2.318181818181818"
      ]
     },
     "execution_count": 24,
     "metadata": {},
     "output_type": "execute_result"
    }
   ],
   "source": [
    "x/y"
   ]
  },
  {
   "cell_type": "code",
   "execution_count": 25,
   "id": "04684f96",
   "metadata": {},
   "outputs": [],
   "source": [
    "a= 'hello,'"
   ]
  },
  {
   "cell_type": "code",
   "execution_count": 26,
   "id": "c8e470e7",
   "metadata": {},
   "outputs": [],
   "source": [
    "b= 'kelvin'"
   ]
  },
  {
   "cell_type": "code",
   "execution_count": 27,
   "id": "503436d5",
   "metadata": {},
   "outputs": [
    {
     "data": {
      "text/plain": [
       "'hello,kelvin'"
      ]
     },
     "execution_count": 27,
     "metadata": {},
     "output_type": "execute_result"
    }
   ],
   "source": [
    "a+b"
   ]
  },
  {
   "cell_type": "code",
   "execution_count": 33,
   "id": "6512114b",
   "metadata": {},
   "outputs": [],
   "source": [
    "a='how '"
   ]
  },
  {
   "cell_type": "code",
   "execution_count": 34,
   "id": "dd2340ed",
   "metadata": {},
   "outputs": [],
   "source": [
    "b='was '"
   ]
  },
  {
   "cell_type": "code",
   "execution_count": 31,
   "id": "82082356",
   "metadata": {},
   "outputs": [],
   "source": [
    "c='your day'"
   ]
  },
  {
   "cell_type": "code",
   "execution_count": 35,
   "id": "c4defb09",
   "metadata": {},
   "outputs": [
    {
     "data": {
      "text/plain": [
       "'how was your day'"
      ]
     },
     "execution_count": 35,
     "metadata": {},
     "output_type": "execute_result"
    }
   ],
   "source": [
    "a+b+c"
   ]
  },
  {
   "cell_type": "code",
   "execution_count": 39,
   "id": "6170fa33",
   "metadata": {},
   "outputs": [],
   "source": [
    "d= 'my day '"
   ]
  },
  {
   "cell_type": "code",
   "execution_count": 37,
   "id": "88623532",
   "metadata": {},
   "outputs": [],
   "source": [
    "e='was good '"
   ]
  },
  {
   "cell_type": "code",
   "execution_count": 40,
   "id": "56e4adf2",
   "metadata": {},
   "outputs": [
    {
     "data": {
      "text/plain": [
       "'my day was good '"
      ]
     },
     "execution_count": 40,
     "metadata": {},
     "output_type": "execute_result"
    }
   ],
   "source": [
    "d+e"
   ]
  },
  {
   "cell_type": "code",
   "execution_count": 42,
   "id": "b64a8fb9",
   "metadata": {},
   "outputs": [],
   "source": [
    "a='kelvin'"
   ]
  },
  {
   "cell_type": "code",
   "execution_count": 43,
   "id": "8239466d",
   "metadata": {},
   "outputs": [
    {
     "data": {
      "text/plain": [
       "'kelvinkelvinkelvinkelvinkelvinkelvinkelvinkelvinkelvinkelvinkelvinkelvinkelvinkelvinkelvinkelvinkelvinkelvinkelvinkelvinkelvinkelvinkelvinkelvinkelvinkelvinkelvinkelvinkelvinkelvinkelvinkelvinkelvinkelvinkelvinkelvinkelvinkelvinkelvinkelvinkelvinkelvinkelvinkelvinkelvinkelvinkelvinkelvinkelvinkelvinkelvinkelvinkelvinkelvinkelvinkelvinkelvinkelvinkelvinkelvinkelvinkelvinkelvinkelvinkelvinkelvinkelvinkelvinkelvinkelvinkelvinkelvinkelvinkelvinkelvinkelvinkelvinkelvinkelvinkelvinkelvinkelvinkelvinkelvinkelvinkelvinkelvinkelvinkelvinkelvinkelvinkelvinkelvinkelvinkelvinkelvinkelvinkelvinkelvinkelvin'"
      ]
     },
     "execution_count": 43,
     "metadata": {},
     "output_type": "execute_result"
    }
   ],
   "source": [
    "a*100"
   ]
  },
  {
   "cell_type": "code",
   "execution_count": null,
   "id": "62ee0300",
   "metadata": {},
   "outputs": [],
   "source": []
  }
 ],
 "metadata": {
  "kernelspec": {
   "display_name": "Python 3 (ipykernel)",
   "language": "python",
   "name": "python3"
  },
  "language_info": {
   "codemirror_mode": {
    "name": "ipython",
    "version": 3
   },
   "file_extension": ".py",
   "mimetype": "text/x-python",
   "name": "python",
   "nbconvert_exporter": "python",
   "pygments_lexer": "ipython3",
   "version": "3.9.12"
  }
 },
 "nbformat": 4,
 "nbformat_minor": 5
}
