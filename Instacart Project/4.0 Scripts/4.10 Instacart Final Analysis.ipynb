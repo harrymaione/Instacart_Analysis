{
 "cells": [
  {
   "cell_type": "markdown",
   "id": "5a04e8a0",
   "metadata": {},
   "source": [
    "# Instacart Final Analysis "
   ]
  },
  {
   "cell_type": "markdown",
   "id": "918d0fec",
   "metadata": {},
   "source": [
    "## This script will contain the following: \n",
    "1. Import libraries and data \n",
    "2. Address any PII \n",
    "3. Create a region column \n",
    "4. Create exclusion flag for low activity customers \n",
    "5. Create a profilng variable \n",
    "6. Visualizations of profiles \n",
    "7. Aggregate functions for profiles\n",
    "8. Comparison between customer profiles and region and departments \n",
    "9. Visuals of comparisons. "
   ]
  },
  {
   "cell_type": "markdown",
   "id": "61e6a645",
   "metadata": {},
   "source": [
    "### Importing Libraries and Data "
   ]
  },
  {
   "cell_type": "code",
   "execution_count": 1,
   "id": "f19a016e",
   "metadata": {},
   "outputs": [],
   "source": [
    "#import libraries \n",
    "import pandas as pd\n",
    "import numpy as np \n",
    "import os\n",
    "import matplotlib.pyplot as plt \n",
    "import seaborn as sns\n",
    "import scipy \n"
   ]
  },
  {
   "cell_type": "code",
   "execution_count": 2,
   "id": "f1d73c25",
   "metadata": {},
   "outputs": [],
   "source": [
    "#Set Path \n",
    "path= r'C:\\Users\\hmaio\\Documents\\4.0 Instacart Project'"
   ]
  },
  {
   "cell_type": "code",
   "execution_count": 3,
   "id": "63025aa5",
   "metadata": {},
   "outputs": [],
   "source": [
    "# Import Data \n",
    "df_final = pd.read_pickle(os.path.join(path, '4.0 Data', 'Prepared Data', 'df_merged_final.pkl'))"
   ]
  },
  {
   "cell_type": "code",
   "execution_count": 4,
   "id": "816a4f41",
   "metadata": {},
   "outputs": [
    {
     "data": {
      "text/plain": [
       "(30328763, 32)"
      ]
     },
     "execution_count": 4,
     "metadata": {},
     "output_type": "execute_result"
    }
   ],
   "source": [
    "df_final.shape"
   ]
  },
  {
   "cell_type": "code",
   "execution_count": 5,
   "id": "e00c2ac1",
   "metadata": {},
   "outputs": [
    {
     "data": {
      "text/html": [
       "<div>\n",
       "<style scoped>\n",
       "    .dataframe tbody tr th:only-of-type {\n",
       "        vertical-align: middle;\n",
       "    }\n",
       "\n",
       "    .dataframe tbody tr th {\n",
       "        vertical-align: top;\n",
       "    }\n",
       "\n",
       "    .dataframe thead th {\n",
       "        text-align: right;\n",
       "    }\n",
       "</style>\n",
       "<table border=\"1\" class=\"dataframe\">\n",
       "  <thead>\n",
       "    <tr style=\"text-align: right;\">\n",
       "      <th></th>\n",
       "      <th>user_id</th>\n",
       "      <th>First_Name</th>\n",
       "      <th>Last_Name</th>\n",
       "      <th>Gender</th>\n",
       "      <th>STATE</th>\n",
       "      <th>Age</th>\n",
       "      <th>date_joined</th>\n",
       "      <th>no_of_dependants</th>\n",
       "      <th>fam_status</th>\n",
       "      <th>income</th>\n",
       "      <th>...</th>\n",
       "      <th>_merge</th>\n",
       "      <th>price_range_loc</th>\n",
       "      <th>busiest_days</th>\n",
       "      <th>busiest_period_of_day</th>\n",
       "      <th>max_order</th>\n",
       "      <th>loyalty_flag</th>\n",
       "      <th>avg_spent</th>\n",
       "      <th>spender_flag</th>\n",
       "      <th>median_days_since_order</th>\n",
       "      <th>frequency_flag</th>\n",
       "    </tr>\n",
       "  </thead>\n",
       "  <tbody>\n",
       "    <tr>\n",
       "      <th>0</th>\n",
       "      <td>26711</td>\n",
       "      <td>Deborah</td>\n",
       "      <td>Esquivel</td>\n",
       "      <td>Female</td>\n",
       "      <td>Missouri</td>\n",
       "      <td>48</td>\n",
       "      <td>1/1/2017</td>\n",
       "      <td>3</td>\n",
       "      <td>married</td>\n",
       "      <td>165665</td>\n",
       "      <td>...</td>\n",
       "      <td>both</td>\n",
       "      <td>Mid-Range Product</td>\n",
       "      <td>Busiest days</td>\n",
       "      <td>Average orders</td>\n",
       "      <td>8</td>\n",
       "      <td>New customer</td>\n",
       "      <td>8.205882</td>\n",
       "      <td>Low spender</td>\n",
       "      <td>19.0</td>\n",
       "      <td>Regular customer</td>\n",
       "    </tr>\n",
       "    <tr>\n",
       "      <th>1</th>\n",
       "      <td>26711</td>\n",
       "      <td>Deborah</td>\n",
       "      <td>Esquivel</td>\n",
       "      <td>Female</td>\n",
       "      <td>Missouri</td>\n",
       "      <td>48</td>\n",
       "      <td>1/1/2017</td>\n",
       "      <td>3</td>\n",
       "      <td>married</td>\n",
       "      <td>165665</td>\n",
       "      <td>...</td>\n",
       "      <td>both</td>\n",
       "      <td>Mid-Range Product</td>\n",
       "      <td>Regularly busy</td>\n",
       "      <td>Most orders</td>\n",
       "      <td>8</td>\n",
       "      <td>New customer</td>\n",
       "      <td>8.205882</td>\n",
       "      <td>Low spender</td>\n",
       "      <td>19.0</td>\n",
       "      <td>Regular customer</td>\n",
       "    </tr>\n",
       "    <tr>\n",
       "      <th>2</th>\n",
       "      <td>26711</td>\n",
       "      <td>Deborah</td>\n",
       "      <td>Esquivel</td>\n",
       "      <td>Female</td>\n",
       "      <td>Missouri</td>\n",
       "      <td>48</td>\n",
       "      <td>1/1/2017</td>\n",
       "      <td>3</td>\n",
       "      <td>married</td>\n",
       "      <td>165665</td>\n",
       "      <td>...</td>\n",
       "      <td>both</td>\n",
       "      <td>Mid-Range Product</td>\n",
       "      <td>Busiest days</td>\n",
       "      <td>Most orders</td>\n",
       "      <td>8</td>\n",
       "      <td>New customer</td>\n",
       "      <td>8.205882</td>\n",
       "      <td>Low spender</td>\n",
       "      <td>19.0</td>\n",
       "      <td>Regular customer</td>\n",
       "    </tr>\n",
       "    <tr>\n",
       "      <th>3</th>\n",
       "      <td>26711</td>\n",
       "      <td>Deborah</td>\n",
       "      <td>Esquivel</td>\n",
       "      <td>Female</td>\n",
       "      <td>Missouri</td>\n",
       "      <td>48</td>\n",
       "      <td>1/1/2017</td>\n",
       "      <td>3</td>\n",
       "      <td>married</td>\n",
       "      <td>165665</td>\n",
       "      <td>...</td>\n",
       "      <td>both</td>\n",
       "      <td>Mid-Range Product</td>\n",
       "      <td>Regularly busy</td>\n",
       "      <td>Average orders</td>\n",
       "      <td>8</td>\n",
       "      <td>New customer</td>\n",
       "      <td>8.205882</td>\n",
       "      <td>Low spender</td>\n",
       "      <td>19.0</td>\n",
       "      <td>Regular customer</td>\n",
       "    </tr>\n",
       "    <tr>\n",
       "      <th>4</th>\n",
       "      <td>26711</td>\n",
       "      <td>Deborah</td>\n",
       "      <td>Esquivel</td>\n",
       "      <td>Female</td>\n",
       "      <td>Missouri</td>\n",
       "      <td>48</td>\n",
       "      <td>1/1/2017</td>\n",
       "      <td>3</td>\n",
       "      <td>married</td>\n",
       "      <td>165665</td>\n",
       "      <td>...</td>\n",
       "      <td>both</td>\n",
       "      <td>Mid-Range Product</td>\n",
       "      <td>Least busiest days</td>\n",
       "      <td>Most orders</td>\n",
       "      <td>8</td>\n",
       "      <td>New customer</td>\n",
       "      <td>8.205882</td>\n",
       "      <td>Low spender</td>\n",
       "      <td>19.0</td>\n",
       "      <td>Regular customer</td>\n",
       "    </tr>\n",
       "  </tbody>\n",
       "</table>\n",
       "<p>5 rows × 32 columns</p>\n",
       "</div>"
      ],
      "text/plain": [
       "   user_id First_Name Last_Name  Gender     STATE  Age date_joined  \\\n",
       "0    26711    Deborah  Esquivel  Female  Missouri   48    1/1/2017   \n",
       "1    26711    Deborah  Esquivel  Female  Missouri   48    1/1/2017   \n",
       "2    26711    Deborah  Esquivel  Female  Missouri   48    1/1/2017   \n",
       "3    26711    Deborah  Esquivel  Female  Missouri   48    1/1/2017   \n",
       "4    26711    Deborah  Esquivel  Female  Missouri   48    1/1/2017   \n",
       "\n",
       "   no_of_dependants fam_status  income  ...  _merge    price_range_loc  \\\n",
       "0                 3    married  165665  ...    both  Mid-Range Product   \n",
       "1                 3    married  165665  ...    both  Mid-Range Product   \n",
       "2                 3    married  165665  ...    both  Mid-Range Product   \n",
       "3                 3    married  165665  ...    both  Mid-Range Product   \n",
       "4                 3    married  165665  ...    both  Mid-Range Product   \n",
       "\n",
       "         busiest_days  busiest_period_of_day  max_order  loyalty_flag  \\\n",
       "0        Busiest days         Average orders          8  New customer   \n",
       "1      Regularly busy            Most orders          8  New customer   \n",
       "2        Busiest days            Most orders          8  New customer   \n",
       "3      Regularly busy         Average orders          8  New customer   \n",
       "4  Least busiest days            Most orders          8  New customer   \n",
       "\n",
       "   avg_spent  spender_flag median_days_since_order    frequency_flag  \n",
       "0   8.205882   Low spender                    19.0  Regular customer  \n",
       "1   8.205882   Low spender                    19.0  Regular customer  \n",
       "2   8.205882   Low spender                    19.0  Regular customer  \n",
       "3   8.205882   Low spender                    19.0  Regular customer  \n",
       "4   8.205882   Low spender                    19.0  Regular customer  \n",
       "\n",
       "[5 rows x 32 columns]"
      ]
     },
     "execution_count": 5,
     "metadata": {},
     "output_type": "execute_result"
    }
   ],
   "source": [
    "df_final.head()"
   ]
  },
  {
   "cell_type": "markdown",
   "id": "24a8d094",
   "metadata": {},
   "source": [
    "### Addressing PII "
   ]
  },
  {
   "cell_type": "code",
   "execution_count": 4,
   "id": "90727c53",
   "metadata": {},
   "outputs": [],
   "source": [
    "# removing first name and last name columns as they pose a security issue \n",
    "df_instacart = df_final.drop(columns = ['First_Name', 'Last_Name'])"
   ]
  },
  {
   "cell_type": "code",
   "execution_count": 7,
   "id": "afd7d3f6",
   "metadata": {},
   "outputs": [
    {
     "data": {
      "text/html": [
       "<div>\n",
       "<style scoped>\n",
       "    .dataframe tbody tr th:only-of-type {\n",
       "        vertical-align: middle;\n",
       "    }\n",
       "\n",
       "    .dataframe tbody tr th {\n",
       "        vertical-align: top;\n",
       "    }\n",
       "\n",
       "    .dataframe thead th {\n",
       "        text-align: right;\n",
       "    }\n",
       "</style>\n",
       "<table border=\"1\" class=\"dataframe\">\n",
       "  <thead>\n",
       "    <tr style=\"text-align: right;\">\n",
       "      <th></th>\n",
       "      <th>user_id</th>\n",
       "      <th>Gender</th>\n",
       "      <th>STATE</th>\n",
       "      <th>Age</th>\n",
       "      <th>date_joined</th>\n",
       "      <th>no_of_dependants</th>\n",
       "      <th>fam_status</th>\n",
       "      <th>income</th>\n",
       "      <th>order_id</th>\n",
       "      <th>order_number</th>\n",
       "      <th>...</th>\n",
       "      <th>_merge</th>\n",
       "      <th>price_range_loc</th>\n",
       "      <th>busiest_days</th>\n",
       "      <th>busiest_period_of_day</th>\n",
       "      <th>max_order</th>\n",
       "      <th>loyalty_flag</th>\n",
       "      <th>avg_spent</th>\n",
       "      <th>spender_flag</th>\n",
       "      <th>median_days_since_order</th>\n",
       "      <th>frequency_flag</th>\n",
       "    </tr>\n",
       "  </thead>\n",
       "  <tbody>\n",
       "    <tr>\n",
       "      <th>0</th>\n",
       "      <td>26711</td>\n",
       "      <td>Female</td>\n",
       "      <td>Missouri</td>\n",
       "      <td>48</td>\n",
       "      <td>1/1/2017</td>\n",
       "      <td>3</td>\n",
       "      <td>married</td>\n",
       "      <td>165665</td>\n",
       "      <td>2543867</td>\n",
       "      <td>5</td>\n",
       "      <td>...</td>\n",
       "      <td>both</td>\n",
       "      <td>Mid-Range Product</td>\n",
       "      <td>Busiest days</td>\n",
       "      <td>Average orders</td>\n",
       "      <td>8</td>\n",
       "      <td>New customer</td>\n",
       "      <td>8.205882</td>\n",
       "      <td>Low spender</td>\n",
       "      <td>19.0</td>\n",
       "      <td>Regular customer</td>\n",
       "    </tr>\n",
       "    <tr>\n",
       "      <th>1</th>\n",
       "      <td>26711</td>\n",
       "      <td>Female</td>\n",
       "      <td>Missouri</td>\n",
       "      <td>48</td>\n",
       "      <td>1/1/2017</td>\n",
       "      <td>3</td>\n",
       "      <td>married</td>\n",
       "      <td>165665</td>\n",
       "      <td>1285508</td>\n",
       "      <td>7</td>\n",
       "      <td>...</td>\n",
       "      <td>both</td>\n",
       "      <td>Mid-Range Product</td>\n",
       "      <td>Regularly busy</td>\n",
       "      <td>Most orders</td>\n",
       "      <td>8</td>\n",
       "      <td>New customer</td>\n",
       "      <td>8.205882</td>\n",
       "      <td>Low spender</td>\n",
       "      <td>19.0</td>\n",
       "      <td>Regular customer</td>\n",
       "    </tr>\n",
       "    <tr>\n",
       "      <th>2</th>\n",
       "      <td>26711</td>\n",
       "      <td>Female</td>\n",
       "      <td>Missouri</td>\n",
       "      <td>48</td>\n",
       "      <td>1/1/2017</td>\n",
       "      <td>3</td>\n",
       "      <td>married</td>\n",
       "      <td>165665</td>\n",
       "      <td>2578584</td>\n",
       "      <td>8</td>\n",
       "      <td>...</td>\n",
       "      <td>both</td>\n",
       "      <td>Mid-Range Product</td>\n",
       "      <td>Busiest days</td>\n",
       "      <td>Most orders</td>\n",
       "      <td>8</td>\n",
       "      <td>New customer</td>\n",
       "      <td>8.205882</td>\n",
       "      <td>Low spender</td>\n",
       "      <td>19.0</td>\n",
       "      <td>Regular customer</td>\n",
       "    </tr>\n",
       "    <tr>\n",
       "      <th>3</th>\n",
       "      <td>26711</td>\n",
       "      <td>Female</td>\n",
       "      <td>Missouri</td>\n",
       "      <td>48</td>\n",
       "      <td>1/1/2017</td>\n",
       "      <td>3</td>\n",
       "      <td>married</td>\n",
       "      <td>165665</td>\n",
       "      <td>423547</td>\n",
       "      <td>2</td>\n",
       "      <td>...</td>\n",
       "      <td>both</td>\n",
       "      <td>Mid-Range Product</td>\n",
       "      <td>Regularly busy</td>\n",
       "      <td>Average orders</td>\n",
       "      <td>8</td>\n",
       "      <td>New customer</td>\n",
       "      <td>8.205882</td>\n",
       "      <td>Low spender</td>\n",
       "      <td>19.0</td>\n",
       "      <td>Regular customer</td>\n",
       "    </tr>\n",
       "    <tr>\n",
       "      <th>4</th>\n",
       "      <td>26711</td>\n",
       "      <td>Female</td>\n",
       "      <td>Missouri</td>\n",
       "      <td>48</td>\n",
       "      <td>1/1/2017</td>\n",
       "      <td>3</td>\n",
       "      <td>married</td>\n",
       "      <td>165665</td>\n",
       "      <td>2524893</td>\n",
       "      <td>3</td>\n",
       "      <td>...</td>\n",
       "      <td>both</td>\n",
       "      <td>Mid-Range Product</td>\n",
       "      <td>Least busiest days</td>\n",
       "      <td>Most orders</td>\n",
       "      <td>8</td>\n",
       "      <td>New customer</td>\n",
       "      <td>8.205882</td>\n",
       "      <td>Low spender</td>\n",
       "      <td>19.0</td>\n",
       "      <td>Regular customer</td>\n",
       "    </tr>\n",
       "  </tbody>\n",
       "</table>\n",
       "<p>5 rows × 30 columns</p>\n",
       "</div>"
      ],
      "text/plain": [
       "   user_id  Gender     STATE  Age date_joined  no_of_dependants fam_status  \\\n",
       "0    26711  Female  Missouri   48    1/1/2017                 3    married   \n",
       "1    26711  Female  Missouri   48    1/1/2017                 3    married   \n",
       "2    26711  Female  Missouri   48    1/1/2017                 3    married   \n",
       "3    26711  Female  Missouri   48    1/1/2017                 3    married   \n",
       "4    26711  Female  Missouri   48    1/1/2017                 3    married   \n",
       "\n",
       "   income  order_id  order_number  ...  _merge    price_range_loc  \\\n",
       "0  165665   2543867             5  ...    both  Mid-Range Product   \n",
       "1  165665   1285508             7  ...    both  Mid-Range Product   \n",
       "2  165665   2578584             8  ...    both  Mid-Range Product   \n",
       "3  165665    423547             2  ...    both  Mid-Range Product   \n",
       "4  165665   2524893             3  ...    both  Mid-Range Product   \n",
       "\n",
       "         busiest_days  busiest_period_of_day  max_order  loyalty_flag  \\\n",
       "0        Busiest days         Average orders          8  New customer   \n",
       "1      Regularly busy            Most orders          8  New customer   \n",
       "2        Busiest days            Most orders          8  New customer   \n",
       "3      Regularly busy         Average orders          8  New customer   \n",
       "4  Least busiest days            Most orders          8  New customer   \n",
       "\n",
       "  avg_spent  spender_flag  median_days_since_order    frequency_flag  \n",
       "0  8.205882   Low spender                     19.0  Regular customer  \n",
       "1  8.205882   Low spender                     19.0  Regular customer  \n",
       "2  8.205882   Low spender                     19.0  Regular customer  \n",
       "3  8.205882   Low spender                     19.0  Regular customer  \n",
       "4  8.205882   Low spender                     19.0  Regular customer  \n",
       "\n",
       "[5 rows x 30 columns]"
      ]
     },
     "execution_count": 7,
     "metadata": {},
     "output_type": "execute_result"
    }
   ],
   "source": [
    "# checking resutls \n",
    "df_instacart.head() "
   ]
  },
  {
   "cell_type": "markdown",
   "id": "4b7d2276",
   "metadata": {},
   "source": [
    "### Creating region column "
   ]
  },
  {
   "cell_type": "code",
   "execution_count": 5,
   "id": "ae89812f",
   "metadata": {},
   "outputs": [],
   "source": [
    "#creating a region column \n",
    "region=[] \n",
    "for value in df_instacart['STATE']:\n",
    "    if (value in ['Maine', 'New Hampshire', 'Vermont', 'Massachusetts', 'Rhode Island', 'Connecticut', 'New York', 'Pennsylvania', 'New Jersey']):\n",
    "        region.append('Northeast')\n",
    "    elif (value in ['Wisconsin', 'Michigan', 'Illinois', 'Indiana', 'Ohio', 'North Dakota', 'South Dakota', 'Nebraska', 'Kansas', 'Minnesota', 'Iowa', 'Missouri']):\n",
    "        region.append('Midwest')\n",
    "    elif (value in ['Delaware', 'Maryland', 'District of Columbia', 'Virginia', 'West Virginia', 'North Carolina', 'South Carolina', 'Georgia', 'Florida', 'Kentucky', 'Tennessee', 'Mississippi', 'Alabama', 'Oklahoma', 'Texas', 'Arkansas', 'Louisiana']):\n",
    "        region.append('South')\n",
    "    else:\n",
    "        region.append('West')"
   ]
  },
  {
   "cell_type": "code",
   "execution_count": 6,
   "id": "b1b21323",
   "metadata": {},
   "outputs": [],
   "source": [
    "# adding region column to dataframe\n",
    "df_instacart['region'] = region"
   ]
  },
  {
   "cell_type": "code",
   "execution_count": 10,
   "id": "6a1082a9",
   "metadata": {},
   "outputs": [
    {
     "data": {
      "text/html": [
       "<div>\n",
       "<style scoped>\n",
       "    .dataframe tbody tr th:only-of-type {\n",
       "        vertical-align: middle;\n",
       "    }\n",
       "\n",
       "    .dataframe tbody tr th {\n",
       "        vertical-align: top;\n",
       "    }\n",
       "\n",
       "    .dataframe thead th {\n",
       "        text-align: right;\n",
       "    }\n",
       "</style>\n",
       "<table border=\"1\" class=\"dataframe\">\n",
       "  <thead>\n",
       "    <tr style=\"text-align: right;\">\n",
       "      <th></th>\n",
       "      <th>user_id</th>\n",
       "      <th>Gender</th>\n",
       "      <th>STATE</th>\n",
       "      <th>Age</th>\n",
       "      <th>date_joined</th>\n",
       "      <th>no_of_dependants</th>\n",
       "      <th>fam_status</th>\n",
       "      <th>income</th>\n",
       "      <th>order_id</th>\n",
       "      <th>order_number</th>\n",
       "      <th>...</th>\n",
       "      <th>price_range_loc</th>\n",
       "      <th>busiest_days</th>\n",
       "      <th>busiest_period_of_day</th>\n",
       "      <th>max_order</th>\n",
       "      <th>loyalty_flag</th>\n",
       "      <th>avg_spent</th>\n",
       "      <th>spender_flag</th>\n",
       "      <th>median_days_since_order</th>\n",
       "      <th>frequency_flag</th>\n",
       "      <th>region</th>\n",
       "    </tr>\n",
       "  </thead>\n",
       "  <tbody>\n",
       "    <tr>\n",
       "      <th>0</th>\n",
       "      <td>26711</td>\n",
       "      <td>Female</td>\n",
       "      <td>Missouri</td>\n",
       "      <td>48</td>\n",
       "      <td>1/1/2017</td>\n",
       "      <td>3</td>\n",
       "      <td>married</td>\n",
       "      <td>165665</td>\n",
       "      <td>2543867</td>\n",
       "      <td>5</td>\n",
       "      <td>...</td>\n",
       "      <td>Mid-Range Product</td>\n",
       "      <td>Busiest days</td>\n",
       "      <td>Average orders</td>\n",
       "      <td>8</td>\n",
       "      <td>New customer</td>\n",
       "      <td>8.205882</td>\n",
       "      <td>Low spender</td>\n",
       "      <td>19.0</td>\n",
       "      <td>Regular customer</td>\n",
       "      <td>Midwest</td>\n",
       "    </tr>\n",
       "    <tr>\n",
       "      <th>1</th>\n",
       "      <td>26711</td>\n",
       "      <td>Female</td>\n",
       "      <td>Missouri</td>\n",
       "      <td>48</td>\n",
       "      <td>1/1/2017</td>\n",
       "      <td>3</td>\n",
       "      <td>married</td>\n",
       "      <td>165665</td>\n",
       "      <td>1285508</td>\n",
       "      <td>7</td>\n",
       "      <td>...</td>\n",
       "      <td>Mid-Range Product</td>\n",
       "      <td>Regularly busy</td>\n",
       "      <td>Most orders</td>\n",
       "      <td>8</td>\n",
       "      <td>New customer</td>\n",
       "      <td>8.205882</td>\n",
       "      <td>Low spender</td>\n",
       "      <td>19.0</td>\n",
       "      <td>Regular customer</td>\n",
       "      <td>Midwest</td>\n",
       "    </tr>\n",
       "    <tr>\n",
       "      <th>2</th>\n",
       "      <td>26711</td>\n",
       "      <td>Female</td>\n",
       "      <td>Missouri</td>\n",
       "      <td>48</td>\n",
       "      <td>1/1/2017</td>\n",
       "      <td>3</td>\n",
       "      <td>married</td>\n",
       "      <td>165665</td>\n",
       "      <td>2578584</td>\n",
       "      <td>8</td>\n",
       "      <td>...</td>\n",
       "      <td>Mid-Range Product</td>\n",
       "      <td>Busiest days</td>\n",
       "      <td>Most orders</td>\n",
       "      <td>8</td>\n",
       "      <td>New customer</td>\n",
       "      <td>8.205882</td>\n",
       "      <td>Low spender</td>\n",
       "      <td>19.0</td>\n",
       "      <td>Regular customer</td>\n",
       "      <td>Midwest</td>\n",
       "    </tr>\n",
       "    <tr>\n",
       "      <th>3</th>\n",
       "      <td>26711</td>\n",
       "      <td>Female</td>\n",
       "      <td>Missouri</td>\n",
       "      <td>48</td>\n",
       "      <td>1/1/2017</td>\n",
       "      <td>3</td>\n",
       "      <td>married</td>\n",
       "      <td>165665</td>\n",
       "      <td>423547</td>\n",
       "      <td>2</td>\n",
       "      <td>...</td>\n",
       "      <td>Mid-Range Product</td>\n",
       "      <td>Regularly busy</td>\n",
       "      <td>Average orders</td>\n",
       "      <td>8</td>\n",
       "      <td>New customer</td>\n",
       "      <td>8.205882</td>\n",
       "      <td>Low spender</td>\n",
       "      <td>19.0</td>\n",
       "      <td>Regular customer</td>\n",
       "      <td>Midwest</td>\n",
       "    </tr>\n",
       "    <tr>\n",
       "      <th>4</th>\n",
       "      <td>26711</td>\n",
       "      <td>Female</td>\n",
       "      <td>Missouri</td>\n",
       "      <td>48</td>\n",
       "      <td>1/1/2017</td>\n",
       "      <td>3</td>\n",
       "      <td>married</td>\n",
       "      <td>165665</td>\n",
       "      <td>2524893</td>\n",
       "      <td>3</td>\n",
       "      <td>...</td>\n",
       "      <td>Mid-Range Product</td>\n",
       "      <td>Least busiest days</td>\n",
       "      <td>Most orders</td>\n",
       "      <td>8</td>\n",
       "      <td>New customer</td>\n",
       "      <td>8.205882</td>\n",
       "      <td>Low spender</td>\n",
       "      <td>19.0</td>\n",
       "      <td>Regular customer</td>\n",
       "      <td>Midwest</td>\n",
       "    </tr>\n",
       "  </tbody>\n",
       "</table>\n",
       "<p>5 rows × 31 columns</p>\n",
       "</div>"
      ],
      "text/plain": [
       "   user_id  Gender     STATE  Age date_joined  no_of_dependants fam_status  \\\n",
       "0    26711  Female  Missouri   48    1/1/2017                 3    married   \n",
       "1    26711  Female  Missouri   48    1/1/2017                 3    married   \n",
       "2    26711  Female  Missouri   48    1/1/2017                 3    married   \n",
       "3    26711  Female  Missouri   48    1/1/2017                 3    married   \n",
       "4    26711  Female  Missouri   48    1/1/2017                 3    married   \n",
       "\n",
       "   income  order_id  order_number  ...    price_range_loc        busiest_days  \\\n",
       "0  165665   2543867             5  ...  Mid-Range Product        Busiest days   \n",
       "1  165665   1285508             7  ...  Mid-Range Product      Regularly busy   \n",
       "2  165665   2578584             8  ...  Mid-Range Product        Busiest days   \n",
       "3  165665    423547             2  ...  Mid-Range Product      Regularly busy   \n",
       "4  165665   2524893             3  ...  Mid-Range Product  Least busiest days   \n",
       "\n",
       "   busiest_period_of_day  max_order  loyalty_flag  avg_spent spender_flag  \\\n",
       "0         Average orders          8  New customer   8.205882  Low spender   \n",
       "1            Most orders          8  New customer   8.205882  Low spender   \n",
       "2            Most orders          8  New customer   8.205882  Low spender   \n",
       "3         Average orders          8  New customer   8.205882  Low spender   \n",
       "4            Most orders          8  New customer   8.205882  Low spender   \n",
       "\n",
       "   median_days_since_order    frequency_flag   region  \n",
       "0                     19.0  Regular customer  Midwest  \n",
       "1                     19.0  Regular customer  Midwest  \n",
       "2                     19.0  Regular customer  Midwest  \n",
       "3                     19.0  Regular customer  Midwest  \n",
       "4                     19.0  Regular customer  Midwest  \n",
       "\n",
       "[5 rows x 31 columns]"
      ]
     },
     "execution_count": 10,
     "metadata": {},
     "output_type": "execute_result"
    }
   ],
   "source": [
    "#checking results \n",
    "df_instacart.head() "
   ]
  },
  {
   "cell_type": "code",
   "execution_count": 11,
   "id": "4c88da05",
   "metadata": {},
   "outputs": [
    {
     "data": {
      "text/plain": [
       "South        10099817\n",
       "West          7765088\n",
       "Midwest       7107586\n",
       "Northeast     5356272\n",
       "Name: region, dtype: int64"
      ]
     },
     "execution_count": 11,
     "metadata": {},
     "output_type": "execute_result"
    }
   ],
   "source": [
    "# checking results \n",
    "df_instacart['region'].value_counts(dropna=False)"
   ]
  },
  {
   "cell_type": "code",
   "execution_count": 12,
   "id": "bf8fff41",
   "metadata": {},
   "outputs": [],
   "source": [
    "# Comparing spending habits by region \n",
    "crosstab = pd.crosstab(df_instacart['region'], df_instacart['spender_flag'], dropna = False)"
   ]
  },
  {
   "cell_type": "code",
   "execution_count": 13,
   "id": "a319f653",
   "metadata": {},
   "outputs": [
    {
     "data": {
      "text/html": [
       "<div>\n",
       "<style scoped>\n",
       "    .dataframe tbody tr th:only-of-type {\n",
       "        vertical-align: middle;\n",
       "    }\n",
       "\n",
       "    .dataframe tbody tr th {\n",
       "        vertical-align: top;\n",
       "    }\n",
       "\n",
       "    .dataframe thead th {\n",
       "        text-align: right;\n",
       "    }\n",
       "</style>\n",
       "<table border=\"1\" class=\"dataframe\">\n",
       "  <thead>\n",
       "    <tr style=\"text-align: right;\">\n",
       "      <th>spender_flag</th>\n",
       "      <th>High spender</th>\n",
       "      <th>Low spender</th>\n",
       "    </tr>\n",
       "    <tr>\n",
       "      <th>region</th>\n",
       "      <th></th>\n",
       "      <th></th>\n",
       "    </tr>\n",
       "  </thead>\n",
       "  <tbody>\n",
       "    <tr>\n",
       "      <th>Midwest</th>\n",
       "      <td>148321</td>\n",
       "      <td>6959265</td>\n",
       "    </tr>\n",
       "    <tr>\n",
       "      <th>Northeast</th>\n",
       "      <td>102905</td>\n",
       "      <td>5253367</td>\n",
       "    </tr>\n",
       "    <tr>\n",
       "      <th>South</th>\n",
       "      <td>197110</td>\n",
       "      <td>9902707</td>\n",
       "    </tr>\n",
       "    <tr>\n",
       "      <th>West</th>\n",
       "      <td>149922</td>\n",
       "      <td>7615166</td>\n",
       "    </tr>\n",
       "  </tbody>\n",
       "</table>\n",
       "</div>"
      ],
      "text/plain": [
       "spender_flag  High spender  Low spender\n",
       "region                                 \n",
       "Midwest             148321      6959265\n",
       "Northeast           102905      5253367\n",
       "South               197110      9902707\n",
       "West                149922      7615166"
      ]
     },
     "execution_count": 13,
     "metadata": {},
     "output_type": "execute_result"
    }
   ],
   "source": [
    "crosstab"
   ]
  },
  {
   "cell_type": "markdown",
   "id": "03d624df",
   "metadata": {},
   "source": [
    "The spending habits between U.S regions appear to be fairly equal. "
   ]
  },
  {
   "cell_type": "markdown",
   "id": "3478a71c",
   "metadata": {},
   "source": [
    "### Creating Exclusion Flag for low activity customers (< 5 orders)"
   ]
  },
  {
   "cell_type": "code",
   "execution_count": 7,
   "id": "55b324f5",
   "metadata": {},
   "outputs": [],
   "source": [
    "# create customer activity flag for low activity customers \n",
    "df_instacart.loc[df_instacart['max_order'] < 5, 'customer_activity'] = 'Low Activity'"
   ]
  },
  {
   "cell_type": "code",
   "execution_count": 8,
   "id": "fa6e52e6",
   "metadata": {},
   "outputs": [],
   "source": [
    "# create customer activity flag for regular activity customers \n",
    "df_instacart.loc[df_instacart['max_order'] >= 5, 'customer_activity'] = 'Regular Activity'"
   ]
  },
  {
   "cell_type": "code",
   "execution_count": 16,
   "id": "752dd18d",
   "metadata": {},
   "outputs": [
    {
     "data": {
      "text/plain": [
       "(30328763, 32)"
      ]
     },
     "execution_count": 16,
     "metadata": {},
     "output_type": "execute_result"
    }
   ],
   "source": [
    "# check results \n",
    "df_instacart.shape"
   ]
  },
  {
   "cell_type": "code",
   "execution_count": 17,
   "id": "2f4b0fe4",
   "metadata": {},
   "outputs": [
    {
     "data": {
      "text/html": [
       "<div>\n",
       "<style scoped>\n",
       "    .dataframe tbody tr th:only-of-type {\n",
       "        vertical-align: middle;\n",
       "    }\n",
       "\n",
       "    .dataframe tbody tr th {\n",
       "        vertical-align: top;\n",
       "    }\n",
       "\n",
       "    .dataframe thead th {\n",
       "        text-align: right;\n",
       "    }\n",
       "</style>\n",
       "<table border=\"1\" class=\"dataframe\">\n",
       "  <thead>\n",
       "    <tr style=\"text-align: right;\">\n",
       "      <th></th>\n",
       "      <th>user_id</th>\n",
       "      <th>Gender</th>\n",
       "      <th>STATE</th>\n",
       "      <th>Age</th>\n",
       "      <th>date_joined</th>\n",
       "      <th>no_of_dependants</th>\n",
       "      <th>fam_status</th>\n",
       "      <th>income</th>\n",
       "      <th>order_id</th>\n",
       "      <th>order_number</th>\n",
       "      <th>...</th>\n",
       "      <th>busiest_days</th>\n",
       "      <th>busiest_period_of_day</th>\n",
       "      <th>max_order</th>\n",
       "      <th>loyalty_flag</th>\n",
       "      <th>avg_spent</th>\n",
       "      <th>spender_flag</th>\n",
       "      <th>median_days_since_order</th>\n",
       "      <th>frequency_flag</th>\n",
       "      <th>region</th>\n",
       "      <th>customer_activity</th>\n",
       "    </tr>\n",
       "  </thead>\n",
       "  <tbody>\n",
       "    <tr>\n",
       "      <th>0</th>\n",
       "      <td>26711</td>\n",
       "      <td>Female</td>\n",
       "      <td>Missouri</td>\n",
       "      <td>48</td>\n",
       "      <td>1/1/2017</td>\n",
       "      <td>3</td>\n",
       "      <td>married</td>\n",
       "      <td>165665</td>\n",
       "      <td>2543867</td>\n",
       "      <td>5</td>\n",
       "      <td>...</td>\n",
       "      <td>Busiest days</td>\n",
       "      <td>Average orders</td>\n",
       "      <td>8</td>\n",
       "      <td>New customer</td>\n",
       "      <td>8.205882</td>\n",
       "      <td>Low spender</td>\n",
       "      <td>19.0</td>\n",
       "      <td>Regular customer</td>\n",
       "      <td>Midwest</td>\n",
       "      <td>Regular Activity</td>\n",
       "    </tr>\n",
       "    <tr>\n",
       "      <th>1</th>\n",
       "      <td>26711</td>\n",
       "      <td>Female</td>\n",
       "      <td>Missouri</td>\n",
       "      <td>48</td>\n",
       "      <td>1/1/2017</td>\n",
       "      <td>3</td>\n",
       "      <td>married</td>\n",
       "      <td>165665</td>\n",
       "      <td>1285508</td>\n",
       "      <td>7</td>\n",
       "      <td>...</td>\n",
       "      <td>Regularly busy</td>\n",
       "      <td>Most orders</td>\n",
       "      <td>8</td>\n",
       "      <td>New customer</td>\n",
       "      <td>8.205882</td>\n",
       "      <td>Low spender</td>\n",
       "      <td>19.0</td>\n",
       "      <td>Regular customer</td>\n",
       "      <td>Midwest</td>\n",
       "      <td>Regular Activity</td>\n",
       "    </tr>\n",
       "    <tr>\n",
       "      <th>2</th>\n",
       "      <td>26711</td>\n",
       "      <td>Female</td>\n",
       "      <td>Missouri</td>\n",
       "      <td>48</td>\n",
       "      <td>1/1/2017</td>\n",
       "      <td>3</td>\n",
       "      <td>married</td>\n",
       "      <td>165665</td>\n",
       "      <td>2578584</td>\n",
       "      <td>8</td>\n",
       "      <td>...</td>\n",
       "      <td>Busiest days</td>\n",
       "      <td>Most orders</td>\n",
       "      <td>8</td>\n",
       "      <td>New customer</td>\n",
       "      <td>8.205882</td>\n",
       "      <td>Low spender</td>\n",
       "      <td>19.0</td>\n",
       "      <td>Regular customer</td>\n",
       "      <td>Midwest</td>\n",
       "      <td>Regular Activity</td>\n",
       "    </tr>\n",
       "    <tr>\n",
       "      <th>3</th>\n",
       "      <td>26711</td>\n",
       "      <td>Female</td>\n",
       "      <td>Missouri</td>\n",
       "      <td>48</td>\n",
       "      <td>1/1/2017</td>\n",
       "      <td>3</td>\n",
       "      <td>married</td>\n",
       "      <td>165665</td>\n",
       "      <td>423547</td>\n",
       "      <td>2</td>\n",
       "      <td>...</td>\n",
       "      <td>Regularly busy</td>\n",
       "      <td>Average orders</td>\n",
       "      <td>8</td>\n",
       "      <td>New customer</td>\n",
       "      <td>8.205882</td>\n",
       "      <td>Low spender</td>\n",
       "      <td>19.0</td>\n",
       "      <td>Regular customer</td>\n",
       "      <td>Midwest</td>\n",
       "      <td>Regular Activity</td>\n",
       "    </tr>\n",
       "    <tr>\n",
       "      <th>4</th>\n",
       "      <td>26711</td>\n",
       "      <td>Female</td>\n",
       "      <td>Missouri</td>\n",
       "      <td>48</td>\n",
       "      <td>1/1/2017</td>\n",
       "      <td>3</td>\n",
       "      <td>married</td>\n",
       "      <td>165665</td>\n",
       "      <td>2524893</td>\n",
       "      <td>3</td>\n",
       "      <td>...</td>\n",
       "      <td>Least busiest days</td>\n",
       "      <td>Most orders</td>\n",
       "      <td>8</td>\n",
       "      <td>New customer</td>\n",
       "      <td>8.205882</td>\n",
       "      <td>Low spender</td>\n",
       "      <td>19.0</td>\n",
       "      <td>Regular customer</td>\n",
       "      <td>Midwest</td>\n",
       "      <td>Regular Activity</td>\n",
       "    </tr>\n",
       "  </tbody>\n",
       "</table>\n",
       "<p>5 rows × 32 columns</p>\n",
       "</div>"
      ],
      "text/plain": [
       "   user_id  Gender     STATE  Age date_joined  no_of_dependants fam_status  \\\n",
       "0    26711  Female  Missouri   48    1/1/2017                 3    married   \n",
       "1    26711  Female  Missouri   48    1/1/2017                 3    married   \n",
       "2    26711  Female  Missouri   48    1/1/2017                 3    married   \n",
       "3    26711  Female  Missouri   48    1/1/2017                 3    married   \n",
       "4    26711  Female  Missouri   48    1/1/2017                 3    married   \n",
       "\n",
       "   income  order_id  order_number  ...        busiest_days  \\\n",
       "0  165665   2543867             5  ...        Busiest days   \n",
       "1  165665   1285508             7  ...      Regularly busy   \n",
       "2  165665   2578584             8  ...        Busiest days   \n",
       "3  165665    423547             2  ...      Regularly busy   \n",
       "4  165665   2524893             3  ...  Least busiest days   \n",
       "\n",
       "   busiest_period_of_day  max_order  loyalty_flag  avg_spent  spender_flag  \\\n",
       "0         Average orders          8  New customer   8.205882   Low spender   \n",
       "1            Most orders          8  New customer   8.205882   Low spender   \n",
       "2            Most orders          8  New customer   8.205882   Low spender   \n",
       "3         Average orders          8  New customer   8.205882   Low spender   \n",
       "4            Most orders          8  New customer   8.205882   Low spender   \n",
       "\n",
       "  median_days_since_order    frequency_flag   region  customer_activity  \n",
       "0                    19.0  Regular customer  Midwest   Regular Activity  \n",
       "1                    19.0  Regular customer  Midwest   Regular Activity  \n",
       "2                    19.0  Regular customer  Midwest   Regular Activity  \n",
       "3                    19.0  Regular customer  Midwest   Regular Activity  \n",
       "4                    19.0  Regular customer  Midwest   Regular Activity  \n",
       "\n",
       "[5 rows x 32 columns]"
      ]
     },
     "execution_count": 17,
     "metadata": {},
     "output_type": "execute_result"
    }
   ],
   "source": [
    "df_instacart.head()"
   ]
  },
  {
   "cell_type": "code",
   "execution_count": 18,
   "id": "28dfb97a",
   "metadata": {},
   "outputs": [
    {
     "data": {
      "text/plain": [
       "Regular Activity    29303281\n",
       "Low Activity         1025482\n",
       "Name: customer_activity, dtype: int64"
      ]
     },
     "execution_count": 18,
     "metadata": {},
     "output_type": "execute_result"
    }
   ],
   "source": [
    "df_instacart['customer_activity'].value_counts(dropna=False)"
   ]
  },
  {
   "cell_type": "code",
   "execution_count": 9,
   "id": "b4badfa8",
   "metadata": {},
   "outputs": [],
   "source": [
    "# create subset of low activity customers \n",
    "df_low_activity = df_instacart[df_instacart['customer_activity']== 'Low Activity']"
   ]
  },
  {
   "cell_type": "code",
   "execution_count": 20,
   "id": "fb1d01de",
   "metadata": {},
   "outputs": [
    {
     "data": {
      "text/plain": [
       "(1025482, 32)"
      ]
     },
     "execution_count": 20,
     "metadata": {},
     "output_type": "execute_result"
    }
   ],
   "source": [
    "# checking results \n",
    "df_low_activity.shape"
   ]
  },
  {
   "cell_type": "code",
   "execution_count": 10,
   "id": "e4d34b71",
   "metadata": {},
   "outputs": [],
   "source": [
    "#create subset of regular activity customers\n",
    "df_reg_activity= df_instacart[df_instacart['customer_activity']== 'Regular Activity']"
   ]
  },
  {
   "cell_type": "code",
   "execution_count": 22,
   "id": "fdb3e9dc",
   "metadata": {},
   "outputs": [
    {
     "data": {
      "text/plain": [
       "(29303281, 32)"
      ]
     },
     "execution_count": 22,
     "metadata": {},
     "output_type": "execute_result"
    }
   ],
   "source": [
    "# checking results \n",
    "df_reg_activity.shape "
   ]
  },
  {
   "cell_type": "code",
   "execution_count": 11,
   "id": "72a91e18",
   "metadata": {},
   "outputs": [],
   "source": [
    "# export subset of low activity customers \n",
    "df_low_activity.to_pickle(os.path.join(path, '4.0 Data', 'Prepared Data', 'low_activity_customers.pkl'))"
   ]
  },
  {
   "cell_type": "markdown",
   "id": "f382a10b",
   "metadata": {},
   "source": [
    "### Creating a profiling variables"
   ]
  },
  {
   "cell_type": "markdown",
   "id": "a94ab85a",
   "metadata": {},
   "source": [
    "#### Age Profile"
   ]
  },
  {
   "cell_type": "code",
   "execution_count": 24,
   "id": "51e23ba3",
   "metadata": {},
   "outputs": [
    {
     "data": {
      "text/plain": [
       "18    453014\n",
       "19    469575\n",
       "20    453486\n",
       "21    463443\n",
       "22    465069\n",
       "       ...  \n",
       "77    451336\n",
       "78    445557\n",
       "79    481628\n",
       "80    467074\n",
       "81    459639\n",
       "Name: Age, Length: 64, dtype: int64"
      ]
     },
     "execution_count": 24,
     "metadata": {},
     "output_type": "execute_result"
    }
   ],
   "source": [
    "# Checking age ranges in database\n",
    "df_reg_activity['Age'].value_counts().sort_index()"
   ]
  },
  {
   "cell_type": "code",
   "execution_count": 12,
   "id": "f4b072d1",
   "metadata": {},
   "outputs": [],
   "source": [
    "# Creating age profile\n",
    "age_profile = []\n",
    "\n",
    "for value in df_reg_activity['Age']:\n",
    "    if (value >= 18) and (value <= 24):\n",
    "        age_profile.append('Young Adult')\n",
    "    elif (value >= 25) and (value <= 64):\n",
    "        age_profile.append('Adult')\n",
    "    elif (value >= 65):\n",
    "        age_profile.append('Senior')"
   ]
  },
  {
   "cell_type": "code",
   "execution_count": 13,
   "id": "4d63fa30",
   "metadata": {},
   "outputs": [
    {
     "name": "stderr",
     "output_type": "stream",
     "text": [
      "C:\\Users\\hmaio\\AppData\\Local\\Temp\\ipykernel_9720\\67724849.py:2: SettingWithCopyWarning: \n",
      "A value is trying to be set on a copy of a slice from a DataFrame.\n",
      "Try using .loc[row_indexer,col_indexer] = value instead\n",
      "\n",
      "See the caveats in the documentation: https://pandas.pydata.org/pandas-docs/stable/user_guide/indexing.html#returning-a-view-versus-a-copy\n",
      "  df_reg_activity['age_profile'] = age_profile\n"
     ]
    }
   ],
   "source": [
    "# adding age profile as column \n",
    "df_reg_activity['age_profile'] = age_profile"
   ]
  },
  {
   "cell_type": "code",
   "execution_count": 27,
   "id": "ba67a8d9",
   "metadata": {},
   "outputs": [
    {
     "data": {
      "text/html": [
       "<div>\n",
       "<style scoped>\n",
       "    .dataframe tbody tr th:only-of-type {\n",
       "        vertical-align: middle;\n",
       "    }\n",
       "\n",
       "    .dataframe tbody tr th {\n",
       "        vertical-align: top;\n",
       "    }\n",
       "\n",
       "    .dataframe thead th {\n",
       "        text-align: right;\n",
       "    }\n",
       "</style>\n",
       "<table border=\"1\" class=\"dataframe\">\n",
       "  <thead>\n",
       "    <tr style=\"text-align: right;\">\n",
       "      <th></th>\n",
       "      <th>user_id</th>\n",
       "      <th>Gender</th>\n",
       "      <th>STATE</th>\n",
       "      <th>Age</th>\n",
       "      <th>date_joined</th>\n",
       "      <th>no_of_dependants</th>\n",
       "      <th>fam_status</th>\n",
       "      <th>income</th>\n",
       "      <th>order_id</th>\n",
       "      <th>order_number</th>\n",
       "      <th>...</th>\n",
       "      <th>busiest_period_of_day</th>\n",
       "      <th>max_order</th>\n",
       "      <th>loyalty_flag</th>\n",
       "      <th>avg_spent</th>\n",
       "      <th>spender_flag</th>\n",
       "      <th>median_days_since_order</th>\n",
       "      <th>frequency_flag</th>\n",
       "      <th>region</th>\n",
       "      <th>customer_activity</th>\n",
       "      <th>age_profile</th>\n",
       "    </tr>\n",
       "  </thead>\n",
       "  <tbody>\n",
       "    <tr>\n",
       "      <th>0</th>\n",
       "      <td>26711</td>\n",
       "      <td>Female</td>\n",
       "      <td>Missouri</td>\n",
       "      <td>48</td>\n",
       "      <td>1/1/2017</td>\n",
       "      <td>3</td>\n",
       "      <td>married</td>\n",
       "      <td>165665</td>\n",
       "      <td>2543867</td>\n",
       "      <td>5</td>\n",
       "      <td>...</td>\n",
       "      <td>Average orders</td>\n",
       "      <td>8</td>\n",
       "      <td>New customer</td>\n",
       "      <td>8.205882</td>\n",
       "      <td>Low spender</td>\n",
       "      <td>19.0</td>\n",
       "      <td>Regular customer</td>\n",
       "      <td>Midwest</td>\n",
       "      <td>Regular Activity</td>\n",
       "      <td>Adult</td>\n",
       "    </tr>\n",
       "    <tr>\n",
       "      <th>1</th>\n",
       "      <td>26711</td>\n",
       "      <td>Female</td>\n",
       "      <td>Missouri</td>\n",
       "      <td>48</td>\n",
       "      <td>1/1/2017</td>\n",
       "      <td>3</td>\n",
       "      <td>married</td>\n",
       "      <td>165665</td>\n",
       "      <td>1285508</td>\n",
       "      <td>7</td>\n",
       "      <td>...</td>\n",
       "      <td>Most orders</td>\n",
       "      <td>8</td>\n",
       "      <td>New customer</td>\n",
       "      <td>8.205882</td>\n",
       "      <td>Low spender</td>\n",
       "      <td>19.0</td>\n",
       "      <td>Regular customer</td>\n",
       "      <td>Midwest</td>\n",
       "      <td>Regular Activity</td>\n",
       "      <td>Adult</td>\n",
       "    </tr>\n",
       "    <tr>\n",
       "      <th>2</th>\n",
       "      <td>26711</td>\n",
       "      <td>Female</td>\n",
       "      <td>Missouri</td>\n",
       "      <td>48</td>\n",
       "      <td>1/1/2017</td>\n",
       "      <td>3</td>\n",
       "      <td>married</td>\n",
       "      <td>165665</td>\n",
       "      <td>2578584</td>\n",
       "      <td>8</td>\n",
       "      <td>...</td>\n",
       "      <td>Most orders</td>\n",
       "      <td>8</td>\n",
       "      <td>New customer</td>\n",
       "      <td>8.205882</td>\n",
       "      <td>Low spender</td>\n",
       "      <td>19.0</td>\n",
       "      <td>Regular customer</td>\n",
       "      <td>Midwest</td>\n",
       "      <td>Regular Activity</td>\n",
       "      <td>Adult</td>\n",
       "    </tr>\n",
       "    <tr>\n",
       "      <th>3</th>\n",
       "      <td>26711</td>\n",
       "      <td>Female</td>\n",
       "      <td>Missouri</td>\n",
       "      <td>48</td>\n",
       "      <td>1/1/2017</td>\n",
       "      <td>3</td>\n",
       "      <td>married</td>\n",
       "      <td>165665</td>\n",
       "      <td>423547</td>\n",
       "      <td>2</td>\n",
       "      <td>...</td>\n",
       "      <td>Average orders</td>\n",
       "      <td>8</td>\n",
       "      <td>New customer</td>\n",
       "      <td>8.205882</td>\n",
       "      <td>Low spender</td>\n",
       "      <td>19.0</td>\n",
       "      <td>Regular customer</td>\n",
       "      <td>Midwest</td>\n",
       "      <td>Regular Activity</td>\n",
       "      <td>Adult</td>\n",
       "    </tr>\n",
       "    <tr>\n",
       "      <th>4</th>\n",
       "      <td>26711</td>\n",
       "      <td>Female</td>\n",
       "      <td>Missouri</td>\n",
       "      <td>48</td>\n",
       "      <td>1/1/2017</td>\n",
       "      <td>3</td>\n",
       "      <td>married</td>\n",
       "      <td>165665</td>\n",
       "      <td>2524893</td>\n",
       "      <td>3</td>\n",
       "      <td>...</td>\n",
       "      <td>Most orders</td>\n",
       "      <td>8</td>\n",
       "      <td>New customer</td>\n",
       "      <td>8.205882</td>\n",
       "      <td>Low spender</td>\n",
       "      <td>19.0</td>\n",
       "      <td>Regular customer</td>\n",
       "      <td>Midwest</td>\n",
       "      <td>Regular Activity</td>\n",
       "      <td>Adult</td>\n",
       "    </tr>\n",
       "  </tbody>\n",
       "</table>\n",
       "<p>5 rows × 33 columns</p>\n",
       "</div>"
      ],
      "text/plain": [
       "   user_id  Gender     STATE  Age date_joined  no_of_dependants fam_status  \\\n",
       "0    26711  Female  Missouri   48    1/1/2017                 3    married   \n",
       "1    26711  Female  Missouri   48    1/1/2017                 3    married   \n",
       "2    26711  Female  Missouri   48    1/1/2017                 3    married   \n",
       "3    26711  Female  Missouri   48    1/1/2017                 3    married   \n",
       "4    26711  Female  Missouri   48    1/1/2017                 3    married   \n",
       "\n",
       "   income  order_id  order_number  ...  busiest_period_of_day  max_order  \\\n",
       "0  165665   2543867             5  ...         Average orders          8   \n",
       "1  165665   1285508             7  ...            Most orders          8   \n",
       "2  165665   2578584             8  ...            Most orders          8   \n",
       "3  165665    423547             2  ...         Average orders          8   \n",
       "4  165665   2524893             3  ...            Most orders          8   \n",
       "\n",
       "   loyalty_flag  avg_spent  spender_flag  median_days_since_order  \\\n",
       "0  New customer   8.205882   Low spender                     19.0   \n",
       "1  New customer   8.205882   Low spender                     19.0   \n",
       "2  New customer   8.205882   Low spender                     19.0   \n",
       "3  New customer   8.205882   Low spender                     19.0   \n",
       "4  New customer   8.205882   Low spender                     19.0   \n",
       "\n",
       "     frequency_flag   region  customer_activity  age_profile  \n",
       "0  Regular customer  Midwest   Regular Activity        Adult  \n",
       "1  Regular customer  Midwest   Regular Activity        Adult  \n",
       "2  Regular customer  Midwest   Regular Activity        Adult  \n",
       "3  Regular customer  Midwest   Regular Activity        Adult  \n",
       "4  Regular customer  Midwest   Regular Activity        Adult  \n",
       "\n",
       "[5 rows x 33 columns]"
      ]
     },
     "execution_count": 27,
     "metadata": {},
     "output_type": "execute_result"
    }
   ],
   "source": [
    "df_reg_activity.head()"
   ]
  },
  {
   "cell_type": "code",
   "execution_count": 28,
   "id": "36e05ecc",
   "metadata": {},
   "outputs": [
    {
     "data": {
      "text/plain": [
       "Adult          18316877\n",
       "Senior          7754560\n",
       "Young Adult     3231844\n",
       "Name: age_profile, dtype: int64"
      ]
     },
     "execution_count": 28,
     "metadata": {},
     "output_type": "execute_result"
    }
   ],
   "source": [
    "# checking results \n",
    "df_reg_activity['age_profile'].value_counts()"
   ]
  },
  {
   "cell_type": "markdown",
   "id": "b2c141df",
   "metadata": {},
   "source": [
    "#### Income Profile "
   ]
  },
  {
   "cell_type": "code",
   "execution_count": 29,
   "id": "70f0541b",
   "metadata": {},
   "outputs": [
    {
     "data": {
      "text/plain": [
       "25903      18\n",
       "25911      24\n",
       "25937      34\n",
       "25941      27\n",
       "25955     389\n",
       "         ... \n",
       "584097    815\n",
       "590790     41\n",
       "591089    170\n",
       "592409    287\n",
       "593901    622\n",
       "Name: income, Length: 96069, dtype: int64"
      ]
     },
     "execution_count": 29,
     "metadata": {},
     "output_type": "execute_result"
    }
   ],
   "source": [
    "#view income range\n",
    "df_reg_activity['income'].value_counts().sort_index()"
   ]
  },
  {
   "cell_type": "code",
   "execution_count": 14,
   "id": "89aa53ca",
   "metadata": {},
   "outputs": [
    {
     "name": "stderr",
     "output_type": "stream",
     "text": [
      "C:\\Users\\hmaio\\AppData\\Local\\Temp\\ipykernel_9720\\2133398913.py:2: SettingWithCopyWarning: \n",
      "A value is trying to be set on a copy of a slice from a DataFrame.\n",
      "Try using .loc[row_indexer,col_indexer] = value instead\n",
      "\n",
      "See the caveats in the documentation: https://pandas.pydata.org/pandas-docs/stable/user_guide/indexing.html#returning-a-view-versus-a-copy\n",
      "  df_reg_activity.loc[df_reg_activity['income'] < 33000, 'income_profile'] = 'Low Income'\n"
     ]
    }
   ],
   "source": [
    "#creating income variable \n",
    "df_reg_activity.loc[df_reg_activity['income'] < 33000, 'income_profile'] = 'Low Income'"
   ]
  },
  {
   "cell_type": "code",
   "execution_count": 15,
   "id": "4cc73504",
   "metadata": {},
   "outputs": [],
   "source": [
    "df_reg_activity.loc[(df_reg_activity['income'] >=33000) & (df_reg_activity['income'] < 55000), 'income_profile'] = 'Lower Middle Income'"
   ]
  },
  {
   "cell_type": "code",
   "execution_count": 16,
   "id": "15f0ae36",
   "metadata": {},
   "outputs": [],
   "source": [
    "df_reg_activity.loc[(df_reg_activity['income'] >=55000) & (df_reg_activity['income'] < 106000), 'income_profile'] = 'Middle Income'"
   ]
  },
  {
   "cell_type": "code",
   "execution_count": 17,
   "id": "4a1de896",
   "metadata": {},
   "outputs": [],
   "source": [
    "df_reg_activity.loc[(df_reg_activity['income'] >=106000) & (df_reg_activity['income'] < 350000), 'income_profile'] = ' Upper Middle Income'"
   ]
  },
  {
   "cell_type": "code",
   "execution_count": 18,
   "id": "13ccb13d",
   "metadata": {},
   "outputs": [],
   "source": [
    "df_reg_activity.loc[df_reg_activity['income'] >= 350000, 'income_profile'] = 'Upper Income'"
   ]
  },
  {
   "cell_type": "code",
   "execution_count": null,
   "id": "549a446f",
   "metadata": {},
   "outputs": [],
   "source": [
    "#checking results \n",
    "df_reg_activity['income_profile'].value_counts()"
   ]
  },
  {
   "cell_type": "markdown",
   "id": "89a8de16",
   "metadata": {},
   "source": [
    "#### Creating profile for number of dependents "
   ]
  },
  {
   "cell_type": "code",
   "execution_count": 19,
   "id": "c77d6e84",
   "metadata": {},
   "outputs": [
    {
     "name": "stderr",
     "output_type": "stream",
     "text": [
      "C:\\Users\\hmaio\\AppData\\Local\\Temp\\ipykernel_9720\\1858835464.py:2: SettingWithCopyWarning: \n",
      "A value is trying to be set on a copy of a slice from a DataFrame\n",
      "\n",
      "See the caveats in the documentation: https://pandas.pydata.org/pandas-docs/stable/user_guide/indexing.html#returning-a-view-versus-a-copy\n",
      "  df_reg_activity.rename(columns = {'no_of_dependants' : 'no_of_dependents'}, inplace=True)\n"
     ]
    }
   ],
   "source": [
    "# fixing typo in df  dependants to dependents \n",
    "df_reg_activity.rename(columns = {'no_of_dependants' : 'no_of_dependents'}, inplace=True)"
   ]
  },
  {
   "cell_type": "code",
   "execution_count": null,
   "id": "266ebb19",
   "metadata": {},
   "outputs": [],
   "source": [
    "#viewing no_of_dependents column \n",
    "df_reg_activity['no_of_dependents'].value_counts()"
   ]
  },
  {
   "cell_type": "code",
   "execution_count": 20,
   "id": "7ed5af00",
   "metadata": {},
   "outputs": [
    {
     "name": "stderr",
     "output_type": "stream",
     "text": [
      "C:\\Users\\hmaio\\AppData\\Local\\Temp\\ipykernel_9720\\2954840525.py:2: SettingWithCopyWarning: \n",
      "A value is trying to be set on a copy of a slice from a DataFrame.\n",
      "Try using .loc[row_indexer,col_indexer] = value instead\n",
      "\n",
      "See the caveats in the documentation: https://pandas.pydata.org/pandas-docs/stable/user_guide/indexing.html#returning-a-view-versus-a-copy\n",
      "  df_reg_activity.loc[df_reg_activity['no_of_dependents'] < 1, 'dependent_profile'] = 'Individual'\n"
     ]
    }
   ],
   "source": [
    "#creating no_of_dependents variable \n",
    "df_reg_activity.loc[df_reg_activity['no_of_dependents'] < 1, 'dependent_profile'] = 'Individual'"
   ]
  },
  {
   "cell_type": "code",
   "execution_count": 21,
   "id": "e59df97c",
   "metadata": {},
   "outputs": [],
   "source": [
    "df_reg_activity.loc[df_reg_activity['no_of_dependents'] >= 1, 'dependent_profile'] = 'Family'"
   ]
  },
  {
   "cell_type": "code",
   "execution_count": null,
   "id": "e86607e9",
   "metadata": {},
   "outputs": [],
   "source": [
    "# checking results \n",
    "df_reg_activity['dependent_profile'].value_counts()"
   ]
  },
  {
   "cell_type": "markdown",
   "id": "e7af10be",
   "metadata": {},
   "source": [
    "### Visualizations of Profiles"
   ]
  },
  {
   "cell_type": "code",
   "execution_count": 22,
   "id": "264c1696",
   "metadata": {},
   "outputs": [
    {
     "data": {
      "image/png": "[encoded data removed]",
      "text/plain": [
       "<Figure size 432x288 with 1 Axes>"
      ]
     },
     "metadata": {
      "needs_background": "light"
     },
     "output_type": "display_data"
    }
   ],
   "source": [
    "# Bar chart of Age Profile \n",
    "age_profile_bar =df_reg_activity['age_profile'].value_counts().plot.bar(color = ['red', 'blue', 'green'])"
   ]
  },
  {
   "cell_type": "code",
   "execution_count": 23,
   "id": "588841a7",
   "metadata": {},
   "outputs": [
    {
     "data": {
      "image/png": "[encoded data removed]",
      "text/plain": [
       "<Figure size 432x288 with 1 Axes>"
      ]
     },
     "metadata": {
      "needs_background": "light"
     },
     "output_type": "display_data"
    }
   ],
   "source": [
    "# create bar chart for income profile\n",
    "income_profile_bar =df_reg_activity['income_profile'].value_counts().plot.bar(color = ['red', 'blue', 'green', 'yellow', 'orange'])"
   ]
  },
  {
   "cell_type": "code",
   "execution_count": 24,
   "id": "15af32b9",
   "metadata": {},
   "outputs": [
    {
     "data": {
      "image/png": "[encoded data removed]",
      "text/plain": [
       "<Figure size 432x288 with 1 Axes>"
      ]
     },
     "metadata": {},
     "output_type": "display_data"
    }
   ],
   "source": [
    "#create pie chart for dependents profile\n",
    "dependents_profile_pie =df_reg_activity['dependent_profile'].value_counts().plot.pie()"
   ]
  },
  {
   "cell_type": "markdown",
   "id": "f146fd31",
   "metadata": {},
   "source": [
    "### Aggregates of Profiles"
   ]
  },
  {
   "cell_type": "code",
   "execution_count": 25,
   "id": "cf7fe13f",
   "metadata": {},
   "outputs": [
    {
     "data": {
      "text/html": [
       "<div>\n",
       "<style scoped>\n",
       "    .dataframe tbody tr th:only-of-type {\n",
       "        vertical-align: middle;\n",
       "    }\n",
       "\n",
       "    .dataframe tbody tr th {\n",
       "        vertical-align: top;\n",
       "    }\n",
       "\n",
       "    .dataframe thead tr th {\n",
       "        text-align: left;\n",
       "    }\n",
       "\n",
       "    .dataframe thead tr:last-of-type th {\n",
       "        text-align: right;\n",
       "    }\n",
       "</style>\n",
       "<table border=\"1\" class=\"dataframe\">\n",
       "  <thead>\n",
       "    <tr>\n",
       "      <th></th>\n",
       "      <th colspan=\"3\" halign=\"left\">median_days_since_order</th>\n",
       "    </tr>\n",
       "    <tr>\n",
       "      <th></th>\n",
       "      <th>mean</th>\n",
       "      <th>min</th>\n",
       "      <th>max</th>\n",
       "    </tr>\n",
       "    <tr>\n",
       "      <th>income_profile</th>\n",
       "      <th></th>\n",
       "      <th></th>\n",
       "      <th></th>\n",
       "    </tr>\n",
       "  </thead>\n",
       "  <tbody>\n",
       "    <tr>\n",
       "      <th>Upper Middle Income</th>\n",
       "      <td>9.664062</td>\n",
       "      <td>0.0</td>\n",
       "      <td>30.0</td>\n",
       "    </tr>\n",
       "    <tr>\n",
       "      <th>Low Income</th>\n",
       "      <td>10.546875</td>\n",
       "      <td>0.0</td>\n",
       "      <td>30.0</td>\n",
       "    </tr>\n",
       "    <tr>\n",
       "      <th>Lower Middle Income</th>\n",
       "      <td>10.148438</td>\n",
       "      <td>0.0</td>\n",
       "      <td>30.0</td>\n",
       "    </tr>\n",
       "    <tr>\n",
       "      <th>Middle Income</th>\n",
       "      <td>9.671875</td>\n",
       "      <td>0.0</td>\n",
       "      <td>30.0</td>\n",
       "    </tr>\n",
       "    <tr>\n",
       "      <th>Upper Income</th>\n",
       "      <td>9.062500</td>\n",
       "      <td>1.0</td>\n",
       "      <td>30.0</td>\n",
       "    </tr>\n",
       "  </tbody>\n",
       "</table>\n",
       "</div>"
      ],
      "text/plain": [
       "                     median_days_since_order           \n",
       "                                        mean  min   max\n",
       "income_profile                                         \n",
       " Upper Middle Income                9.664062  0.0  30.0\n",
       "Low Income                         10.546875  0.0  30.0\n",
       "Lower Middle Income                10.148438  0.0  30.0\n",
       "Middle Income                       9.671875  0.0  30.0\n",
       "Upper Income                        9.062500  1.0  30.0"
      ]
     },
     "execution_count": 25,
     "metadata": {},
     "output_type": "execute_result"
    }
   ],
   "source": [
    "# find aggregate values of frequency of order by income\n",
    "df_reg_activity.groupby('income_profile').agg({'median_days_since_order': ['mean', 'min', 'max']})"
   ]
  },
  {
   "cell_type": "code",
   "execution_count": 26,
   "id": "f66e9ae2",
   "metadata": {},
   "outputs": [
    {
     "data": {
      "text/html": [
       "<div>\n",
       "<style scoped>\n",
       "    .dataframe tbody tr th:only-of-type {\n",
       "        vertical-align: middle;\n",
       "    }\n",
       "\n",
       "    .dataframe tbody tr th {\n",
       "        vertical-align: top;\n",
       "    }\n",
       "\n",
       "    .dataframe thead tr th {\n",
       "        text-align: left;\n",
       "    }\n",
       "\n",
       "    .dataframe thead tr:last-of-type th {\n",
       "        text-align: right;\n",
       "    }\n",
       "</style>\n",
       "<table border=\"1\" class=\"dataframe\">\n",
       "  <thead>\n",
       "    <tr>\n",
       "      <th></th>\n",
       "      <th colspan=\"3\" halign=\"left\">median_days_since_order</th>\n",
       "    </tr>\n",
       "    <tr>\n",
       "      <th></th>\n",
       "      <th>mean</th>\n",
       "      <th>min</th>\n",
       "      <th>max</th>\n",
       "    </tr>\n",
       "    <tr>\n",
       "      <th>age_profile</th>\n",
       "      <th></th>\n",
       "      <th></th>\n",
       "      <th></th>\n",
       "    </tr>\n",
       "  </thead>\n",
       "  <tbody>\n",
       "    <tr>\n",
       "      <th>Adult</th>\n",
       "      <td>9.765625</td>\n",
       "      <td>0.0</td>\n",
       "      <td>30.0</td>\n",
       "    </tr>\n",
       "    <tr>\n",
       "      <th>Senior</th>\n",
       "      <td>9.718750</td>\n",
       "      <td>0.0</td>\n",
       "      <td>30.0</td>\n",
       "    </tr>\n",
       "    <tr>\n",
       "      <th>Young Adult</th>\n",
       "      <td>9.695312</td>\n",
       "      <td>0.0</td>\n",
       "      <td>30.0</td>\n",
       "    </tr>\n",
       "  </tbody>\n",
       "</table>\n",
       "</div>"
      ],
      "text/plain": [
       "            median_days_since_order           \n",
       "                               mean  min   max\n",
       "age_profile                                   \n",
       "Adult                      9.765625  0.0  30.0\n",
       "Senior                     9.718750  0.0  30.0\n",
       "Young Adult                9.695312  0.0  30.0"
      ]
     },
     "execution_count": 26,
     "metadata": {},
     "output_type": "execute_result"
    }
   ],
   "source": [
    "# find aggregate values of frequency of order by age\n",
    "\n",
    "df_reg_activity.groupby('age_profile').agg({'median_days_since_order': ['mean', 'min', 'max']})"
   ]
  },
  {
   "cell_type": "code",
   "execution_count": 27,
   "id": "1ba7c4ba",
   "metadata": {},
   "outputs": [
    {
     "data": {
      "text/html": [
       "<div>\n",
       "<style scoped>\n",
       "    .dataframe tbody tr th:only-of-type {\n",
       "        vertical-align: middle;\n",
       "    }\n",
       "\n",
       "    .dataframe tbody tr th {\n",
       "        vertical-align: top;\n",
       "    }\n",
       "\n",
       "    .dataframe thead tr th {\n",
       "        text-align: left;\n",
       "    }\n",
       "\n",
       "    .dataframe thead tr:last-of-type th {\n",
       "        text-align: right;\n",
       "    }\n",
       "</style>\n",
       "<table border=\"1\" class=\"dataframe\">\n",
       "  <thead>\n",
       "    <tr>\n",
       "      <th></th>\n",
       "      <th colspan=\"3\" halign=\"left\">median_days_since_order</th>\n",
       "    </tr>\n",
       "    <tr>\n",
       "      <th></th>\n",
       "      <th>mean</th>\n",
       "      <th>min</th>\n",
       "      <th>max</th>\n",
       "    </tr>\n",
       "    <tr>\n",
       "      <th>dependent_profile</th>\n",
       "      <th></th>\n",
       "      <th></th>\n",
       "      <th></th>\n",
       "    </tr>\n",
       "  </thead>\n",
       "  <tbody>\n",
       "    <tr>\n",
       "      <th>Family</th>\n",
       "      <td>9.750000</td>\n",
       "      <td>0.0</td>\n",
       "      <td>30.0</td>\n",
       "    </tr>\n",
       "    <tr>\n",
       "      <th>Individual</th>\n",
       "      <td>9.726562</td>\n",
       "      <td>0.0</td>\n",
       "      <td>30.0</td>\n",
       "    </tr>\n",
       "  </tbody>\n",
       "</table>\n",
       "</div>"
      ],
      "text/plain": [
       "                  median_days_since_order           \n",
       "                                     mean  min   max\n",
       "dependent_profile                                   \n",
       "Family                           9.750000  0.0  30.0\n",
       "Individual                       9.726562  0.0  30.0"
      ]
     },
     "execution_count": 27,
     "metadata": {},
     "output_type": "execute_result"
    }
   ],
   "source": [
    "# find aggregate values of frequency of order by dependents\n",
    "\n",
    "df_reg_activity.groupby('dependent_profile').agg({'median_days_since_order': ['mean', 'min', 'max']})"
   ]
  },
  {
   "cell_type": "code",
   "execution_count": 28,
   "id": "1635a425",
   "metadata": {},
   "outputs": [
    {
     "data": {
      "text/html": [
       "<div>\n",
       "<style scoped>\n",
       "    .dataframe tbody tr th:only-of-type {\n",
       "        vertical-align: middle;\n",
       "    }\n",
       "\n",
       "    .dataframe tbody tr th {\n",
       "        vertical-align: top;\n",
       "    }\n",
       "\n",
       "    .dataframe thead tr th {\n",
       "        text-align: left;\n",
       "    }\n",
       "\n",
       "    .dataframe thead tr:last-of-type th {\n",
       "        text-align: right;\n",
       "    }\n",
       "</style>\n",
       "<table border=\"1\" class=\"dataframe\">\n",
       "  <thead>\n",
       "    <tr>\n",
       "      <th></th>\n",
       "      <th colspan=\"3\" halign=\"left\">avg_spent</th>\n",
       "    </tr>\n",
       "    <tr>\n",
       "      <th></th>\n",
       "      <th>mean</th>\n",
       "      <th>min</th>\n",
       "      <th>max</th>\n",
       "    </tr>\n",
       "    <tr>\n",
       "      <th>age_profile</th>\n",
       "      <th></th>\n",
       "      <th></th>\n",
       "      <th></th>\n",
       "    </tr>\n",
       "  </thead>\n",
       "  <tbody>\n",
       "    <tr>\n",
       "      <th>Adult</th>\n",
       "      <td>11.927791</td>\n",
       "      <td>1.000</td>\n",
       "      <td>14292.911429</td>\n",
       "    </tr>\n",
       "    <tr>\n",
       "      <th>Senior</th>\n",
       "      <td>11.729477</td>\n",
       "      <td>1.100</td>\n",
       "      <td>13468.890385</td>\n",
       "    </tr>\n",
       "    <tr>\n",
       "      <th>Young Adult</th>\n",
       "      <td>12.436005</td>\n",
       "      <td>1.925</td>\n",
       "      <td>9529.892857</td>\n",
       "    </tr>\n",
       "  </tbody>\n",
       "</table>\n",
       "</div>"
      ],
      "text/plain": [
       "             avg_spent                     \n",
       "                  mean    min           max\n",
       "age_profile                                \n",
       "Adult        11.927791  1.000  14292.911429\n",
       "Senior       11.729477  1.100  13468.890385\n",
       "Young Adult  12.436005  1.925   9529.892857"
      ]
     },
     "execution_count": 28,
     "metadata": {},
     "output_type": "execute_result"
    }
   ],
   "source": [
    "# find aggregate values of average amount spent by age profile\n",
    "\n",
    "df_reg_activity.groupby('age_profile').agg({'avg_spent': ['mean', 'min', 'max']})"
   ]
  },
  {
   "cell_type": "code",
   "execution_count": 29,
   "id": "356b4eb8",
   "metadata": {},
   "outputs": [
    {
     "data": {
      "text/html": [
       "<div>\n",
       "<style scoped>\n",
       "    .dataframe tbody tr th:only-of-type {\n",
       "        vertical-align: middle;\n",
       "    }\n",
       "\n",
       "    .dataframe tbody tr th {\n",
       "        vertical-align: top;\n",
       "    }\n",
       "\n",
       "    .dataframe thead tr th {\n",
       "        text-align: left;\n",
       "    }\n",
       "\n",
       "    .dataframe thead tr:last-of-type th {\n",
       "        text-align: right;\n",
       "    }\n",
       "</style>\n",
       "<table border=\"1\" class=\"dataframe\">\n",
       "  <thead>\n",
       "    <tr>\n",
       "      <th></th>\n",
       "      <th colspan=\"3\" halign=\"left\">avg_spent</th>\n",
       "    </tr>\n",
       "    <tr>\n",
       "      <th></th>\n",
       "      <th>mean</th>\n",
       "      <th>min</th>\n",
       "      <th>max</th>\n",
       "    </tr>\n",
       "    <tr>\n",
       "      <th>income_profile</th>\n",
       "      <th></th>\n",
       "      <th></th>\n",
       "      <th></th>\n",
       "    </tr>\n",
       "  </thead>\n",
       "  <tbody>\n",
       "    <tr>\n",
       "      <th>Upper Middle Income</th>\n",
       "      <td>15.743907</td>\n",
       "      <td>5.570000</td>\n",
       "      <td>14292.911429</td>\n",
       "    </tr>\n",
       "    <tr>\n",
       "      <th>Low Income</th>\n",
       "      <td>6.497206</td>\n",
       "      <td>1.100000</td>\n",
       "      <td>7.910000</td>\n",
       "    </tr>\n",
       "    <tr>\n",
       "      <th>Lower Middle Income</th>\n",
       "      <td>6.984176</td>\n",
       "      <td>1.000000</td>\n",
       "      <td>15.488889</td>\n",
       "    </tr>\n",
       "    <tr>\n",
       "      <th>Middle Income</th>\n",
       "      <td>8.696558</td>\n",
       "      <td>1.100000</td>\n",
       "      <td>4623.173846</td>\n",
       "    </tr>\n",
       "    <tr>\n",
       "      <th>Upper Income</th>\n",
       "      <td>281.268796</td>\n",
       "      <td>6.841748</td>\n",
       "      <td>7900.663158</td>\n",
       "    </tr>\n",
       "  </tbody>\n",
       "</table>\n",
       "</div>"
      ],
      "text/plain": [
       "                       avg_spent                        \n",
       "                            mean       min           max\n",
       "income_profile                                          \n",
       " Upper Middle Income   15.743907  5.570000  14292.911429\n",
       "Low Income              6.497206  1.100000      7.910000\n",
       "Lower Middle Income     6.984176  1.000000     15.488889\n",
       "Middle Income           8.696558  1.100000   4623.173846\n",
       "Upper Income          281.268796  6.841748   7900.663158"
      ]
     },
     "execution_count": 29,
     "metadata": {},
     "output_type": "execute_result"
    }
   ],
   "source": [
    "# find aggregate values of average amount spent by income profile\n",
    "\n",
    "df_reg_activity.groupby('income_profile').agg({'avg_spent': ['mean', 'min', 'max']})"
   ]
  },
  {
   "cell_type": "code",
   "execution_count": 30,
   "id": "924af71c",
   "metadata": {},
   "outputs": [
    {
     "data": {
      "text/html": [
       "<div>\n",
       "<style scoped>\n",
       "    .dataframe tbody tr th:only-of-type {\n",
       "        vertical-align: middle;\n",
       "    }\n",
       "\n",
       "    .dataframe tbody tr th {\n",
       "        vertical-align: top;\n",
       "    }\n",
       "\n",
       "    .dataframe thead tr th {\n",
       "        text-align: left;\n",
       "    }\n",
       "\n",
       "    .dataframe thead tr:last-of-type th {\n",
       "        text-align: right;\n",
       "    }\n",
       "</style>\n",
       "<table border=\"1\" class=\"dataframe\">\n",
       "  <thead>\n",
       "    <tr>\n",
       "      <th></th>\n",
       "      <th colspan=\"3\" halign=\"left\">avg_spent</th>\n",
       "    </tr>\n",
       "    <tr>\n",
       "      <th></th>\n",
       "      <th>mean</th>\n",
       "      <th>min</th>\n",
       "      <th>max</th>\n",
       "    </tr>\n",
       "    <tr>\n",
       "      <th>dependent_profile</th>\n",
       "      <th></th>\n",
       "      <th></th>\n",
       "      <th></th>\n",
       "    </tr>\n",
       "  </thead>\n",
       "  <tbody>\n",
       "    <tr>\n",
       "      <th>Family</th>\n",
       "      <td>11.876543</td>\n",
       "      <td>1.0</td>\n",
       "      <td>9529.892857</td>\n",
       "    </tr>\n",
       "    <tr>\n",
       "      <th>Individual</th>\n",
       "      <td>12.095844</td>\n",
       "      <td>1.0</td>\n",
       "      <td>14292.911429</td>\n",
       "    </tr>\n",
       "  </tbody>\n",
       "</table>\n",
       "</div>"
      ],
      "text/plain": [
       "                   avg_spent                   \n",
       "                        mean  min           max\n",
       "dependent_profile                              \n",
       "Family             11.876543  1.0   9529.892857\n",
       "Individual         12.095844  1.0  14292.911429"
      ]
     },
     "execution_count": 30,
     "metadata": {},
     "output_type": "execute_result"
    }
   ],
   "source": [
    "# find aggregate values of average amount spent by dependent profile\n",
    "\n",
    "df_reg_activity.groupby('dependent_profile').agg({'avg_spent': ['mean', 'min', 'max']})"
   ]
  },
  {
   "cell_type": "code",
   "execution_count": 31,
   "id": "8b47be4b",
   "metadata": {},
   "outputs": [],
   "source": [
    "#export data\n",
    "df_reg_activity.to_pickle(os.path.join(path, '4.0 Data','Prepared Data', 'df_reg_activity.pkl'))"
   ]
  },
  {
   "cell_type": "code",
   "execution_count": 32,
   "id": "ff92a173",
   "metadata": {},
   "outputs": [],
   "source": [
    "#export age profile bar chart \n",
    "age_profile_bar.figure.savefig(os.path.join(path, '4.0 Analysis','Visualizations', 'age_profile_bar.png'))"
   ]
  },
  {
   "cell_type": "code",
   "execution_count": 33,
   "id": "6ac52684",
   "metadata": {},
   "outputs": [],
   "source": [
    "# export income profile bar chart\n",
    "income_profile_bar.figure.savefig(os.path.join(path, '4.0 Analysis','Visualizations', 'income_profile_bar.png'))"
   ]
  },
  {
   "cell_type": "code",
   "execution_count": 35,
   "id": "25fc4a4c",
   "metadata": {},
   "outputs": [],
   "source": [
    "# export dependent profile pie chart \n",
    "dependents_profile_pie.figure.savefig(os.path.join(path, '4.0 Analysis','Visualizations', 'dependent_profile_pie.png'))"
   ]
  },
  {
   "cell_type": "code",
   "execution_count": null,
   "id": "8e04da8a",
   "metadata": {},
   "outputs": [],
   "source": []
  },
  {
   "cell_type": "code",
   "execution_count": null,
   "id": "a55aef49",
   "metadata": {},
   "outputs": [],
   "source": []
  },
  {
   "cell_type": "code",
   "execution_count": null,
   "id": "571d136b",
   "metadata": {},
   "outputs": [],
   "source": []
  }
 ],
 "metadata": {
  "kernelspec": {
   "display_name": "Python 3 (ipykernel)",
   "language": "python",
   "name": "python3"
  },
  "language_info": {
   "codemirror_mode": {
    "name": "ipython",
    "version": 3
   },
   "file_extension": ".py",
   "mimetype": "text/x-python",
   "name": "python",
   "nbconvert_exporter": "python",
   "pygments_lexer": "ipython3",
   "version": "3.9.12"
  }
 },
 "nbformat": 4,
 "nbformat_minor": 5
}
